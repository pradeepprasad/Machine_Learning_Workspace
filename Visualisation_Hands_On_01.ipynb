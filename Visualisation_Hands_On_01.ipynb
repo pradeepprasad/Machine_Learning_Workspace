{
  "nbformat": 4,
  "nbformat_minor": 0,
  "metadata": {
    "kernelspec": {
      "language": "python",
      "display_name": "Python 3",
      "name": "python3"
    },
    "language_info": {
      "pygments_lexer": "ipython3",
      "nbconvert_exporter": "python",
      "version": "3.6.4",
      "file_extension": ".py",
      "codemirror_mode": {
        "name": "ipython",
        "version": 3
      },
      "name": "python",
      "mimetype": "text/x-python"
    },
    "colab": {
      "name": "Visualisation_Hands_On_01.ipynb",
      "provenance": [],
      "collapsed_sections": [],
      "include_colab_link": true
    }
  },
  "cells": [
    {
      "cell_type": "markdown",
      "metadata": {
        "id": "view-in-github",
        "colab_type": "text"
      },
      "source": [
        "<a href=\"https://colab.research.google.com/github/pradeepprasad/Machine_Learning_Workspace/blob/master/Visualisation_Hands_On_01.ipynb\" target=\"_parent\"><img src=\"https://colab.research.google.com/assets/colab-badge.svg\" alt=\"Open In Colab\"/></a>"
      ]
    },
    {
      "cell_type": "code",
      "metadata": {
        "id": "jNuZ21I_GqRM",
        "colab_type": "code",
        "outputId": "f0bf92c5-174a-45b1-ef73-4c9f1419152e",
        "colab": {
          "base_uri": "https://localhost:8080/",
          "height": 129
        }
      },
      "source": [
        "from google.colab import drive\n",
        "drive.mount('/content/drive')"
      ],
      "execution_count": 1,
      "outputs": [
        {
          "output_type": "stream",
          "text": [
            "Go to this URL in a browser: https://accounts.google.com/o/oauth2/auth?client_id=947318989803-6bn6qk8qdgf4n4g3pfee6491hc0brc4i.apps.googleusercontent.com&redirect_uri=urn%3aietf%3awg%3aoauth%3a2.0%3aoob&response_type=code&scope=email%20https%3a%2f%2fwww.googleapis.com%2fauth%2fdocs.test%20https%3a%2f%2fwww.googleapis.com%2fauth%2fdrive%20https%3a%2f%2fwww.googleapis.com%2fauth%2fdrive.photos.readonly%20https%3a%2f%2fwww.googleapis.com%2fauth%2fpeopleapi.readonly\n",
            "\n",
            "Enter your authorization code:\n",
            "··········\n",
            "Mounted at /content/drive\n"
          ],
          "name": "stdout"
        }
      ]
    },
    {
      "cell_type": "code",
      "metadata": {
        "_uuid": "8f2839f25d086af736a60e9eeb907d3b93b6e0e5",
        "_cell_guid": "b1076dfc-b9ad-4769-8c92-a6c4dae69d19",
        "trusted": true,
        "id": "CgCcBsOkcO98",
        "colab_type": "code",
        "outputId": "9a9f0a42-2a9f-47f3-af35-8625abe5960d",
        "colab": {
          "base_uri": "https://localhost:8080/",
          "height": 185
        }
      },
      "source": [
        "# This Python 3 environment comes with many helpful analytics libraries installed\n",
        "# It is defined by the kaggle/python docker image: https://github.com/kaggle/docker-python\n",
        "# For example, here's several helpful packages to load in \n",
        "import numpy as np # linear algebra\n",
        "import pandas as pd # data processing, CSV file I/O (e.g. pd.read_csv)\n",
        "import seaborn as sns # get seaborn libraries\n",
        "import matplotlib.pyplot as plt\n",
        "#import matplotlib as plt\n",
        "#from matplotlib import *\n",
        "from collections import Counter\n",
        "%matplotlib inline\n",
        "# Input data files are available in the \"../input/\" directory.\n",
        "# For example, running this (by clicking run or pressing Shift+Enter) will list all files under the input directory\n",
        "from subprocess import check_output\n",
        "print(check_output([\"ls\",\"/content/drive/My Drive/data/fatal-police-shootings-in-the-us\"]).decode(\"utf8\"))\n",
        "# Any results you write to the current directory are saved as output."
      ],
      "execution_count": 2,
      "outputs": [
        {
          "output_type": "stream",
          "text": [
            "MedianHouseholdIncome2015.csv\n",
            "PercentagePeopleBelowPovertyLevel.csv\n",
            "PercentOver25CompletedHighSchool.csv\n",
            "PoliceKillingsUS.csv\n",
            "ShareRaceByCity.csv\n",
            "\n"
          ],
          "name": "stdout"
        },
        {
          "output_type": "stream",
          "text": [
            "/usr/local/lib/python3.6/dist-packages/statsmodels/tools/_testing.py:19: FutureWarning: pandas.util.testing is deprecated. Use the functions in the public API at pandas.testing instead.\n",
            "  import pandas.util.testing as tm\n"
          ],
          "name": "stderr"
        }
      ]
    },
    {
      "cell_type": "code",
      "metadata": {
        "_uuid": "d629ff2d2480ee46fbb7e2d37f6b5fab8052498a",
        "_cell_guid": "79c7e3d0-c299-4dcb-8224-4455121ee9b0",
        "trusted": true,
        "id": "s2ApPbx9cO-O",
        "colab_type": "code",
        "colab": {}
      },
      "source": [
        "median_house_hold_income = pd.read_csv(\"/content/drive/My Drive/data/fatal-police-shootings-in-the-us/MedianHouseholdIncome2015.csv\",encoding=\"unicode_escape\")\n",
        "median_house_hold_income = pd.read_csv(\"/content/drive/My Drive/data/fatal-police-shootings-in-the-us/MedianHouseholdIncome2015.csv\",encoding=\"windows-1252\")\n",
        "#median_house_hold_income_clean = pd.read_csv(\"../input/median-householdincome2015-clean/MedianHouseholdIncome2015_clean.csv\",encoding=\"windows-1252\")\n",
        "percentage_below_poverty_line = pd.read_csv(\"/content/drive/My Drive/data/fatal-police-shootings-in-the-us/PercentagePeopleBelowPovertyLevel.csv\",encoding=\"windows-1252\")\n",
        "percentage_over_25_compltd_high_school = pd.read_csv(\"/content/drive/My Drive/data/fatal-police-shootings-in-the-us/PercentOver25CompletedHighSchool.csv\",encoding=\"windows-1252\")\n",
        "police_killing = pd.read_csv(\"/content/drive/My Drive/data/fatal-police-shootings-in-the-us/PoliceKillingsUS.csv\",encoding=\"windows-1252\")\n",
        "race_by_city = pd.read_csv(\"/content/drive/My Drive/data/fatal-police-shootings-in-the-us/ShareRaceByCity.csv\",encoding=\"windows-1252\")"
      ],
      "execution_count": 0,
      "outputs": []
    },
    {
      "cell_type": "code",
      "metadata": {
        "trusted": true,
        "id": "wATfq2K-cO-a",
        "colab_type": "code",
        "colab": {}
      },
      "source": [
        "median_house_hold_income.head()"
      ],
      "execution_count": 0,
      "outputs": []
    },
    {
      "cell_type": "code",
      "metadata": {
        "trusted": true,
        "id": "FIzqriXYcO-i",
        "colab_type": "code",
        "colab": {}
      },
      "source": [
        "median_house_hold_income.tail()"
      ],
      "execution_count": 0,
      "outputs": []
    },
    {
      "cell_type": "code",
      "metadata": {
        "trusted": true,
        "id": "9MtJZemzcO-q",
        "colab_type": "code",
        "colab": {}
      },
      "source": [
        "race_by_city.head()"
      ],
      "execution_count": 0,
      "outputs": []
    },
    {
      "cell_type": "code",
      "metadata": {
        "trusted": true,
        "id": "WFT05mdEcO-y",
        "colab_type": "code",
        "colab": {}
      },
      "source": [
        "race_by_city.describe()"
      ],
      "execution_count": 0,
      "outputs": []
    },
    {
      "cell_type": "code",
      "metadata": {
        "trusted": true,
        "id": "EqGWpgJ_cO-7",
        "colab_type": "code",
        "colab": {}
      },
      "source": [
        "percentage_below_poverty_line['Geographic Area'].unique()"
      ],
      "execution_count": 0,
      "outputs": []
    },
    {
      "cell_type": "code",
      "metadata": {
        "trusted": true,
        "id": "xs2aNjk4cO_B",
        "colab_type": "code",
        "colab": {}
      },
      "source": [
        "percentage_below_poverty_line['Geographic Area'].describe()"
      ],
      "execution_count": 0,
      "outputs": []
    },
    {
      "cell_type": "markdown",
      "metadata": {
        "id": "FP0Jt8HmcO_J",
        "colab_type": "text"
      },
      "source": [
        "Lets draw bar chart with available data."
      ]
    },
    {
      "cell_type": "code",
      "metadata": {
        "trusted": true,
        "id": "lHAX5p-BcO_L",
        "colab_type": "code",
        "outputId": "bbc15ed1-8407-40b7-b8be-6ebc096b963b",
        "colab": {
          "base_uri": "https://localhost:8080/",
          "height": 648
        }
      },
      "source": [
        "percentage_below_poverty_line.poverty_rate.replace(['-'],0.0,inplace=True)\n",
        "percentage_below_poverty_line.poverty_rate = percentage_below_poverty_line.poverty_rate.astype(float)\n",
        "area_list = list(percentage_below_poverty_line['Geographic Area'].unique())\n",
        "area_poverty_ratio = []\n",
        "\n",
        "for i in area_list:\n",
        "    x = percentage_below_poverty_line[percentage_below_poverty_line['Geographic Area'] == i ]\n",
        "    area_poverty_rate = sum(x.poverty_rate)/len(x)\n",
        "    area_poverty_ratio.append(area_poverty_rate) \n",
        "    \n",
        "dataFM_areaList_areaPovertyratio = pd.DataFrame({'area_list': area_list,'area_poverty_ratio':area_poverty_ratio})\n",
        "new_index = (dataFM_areaList_areaPovertyratio['area_poverty_ratio'].sort_values(ascending=False)).index.values\n",
        "dataFM_areaList_areaPovertyratio_sorted = dataFM_areaList_areaPovertyratio.reindex(new_index)\n",
        "\n",
        "#visualisation\n",
        "\n",
        "plt.figure(figsize=(15,10))\n",
        "sns.barplot(x=dataFM_areaList_areaPovertyratio_sorted['area_list'], y=dataFM_areaList_areaPovertyratio_sorted['area_poverty_ratio'])\n",
        "plt.xticks(rotation= 45)\n",
        "plt.xlabel('States')\n",
        "plt.ylabel('Poverty Rate')\n",
        "plt.title('Poverty Rate Given States')\n"
      ],
      "execution_count": 7,
      "outputs": [
        {
          "output_type": "execute_result",
          "data": {
            "text/plain": [
              "Text(0.5, 1.0, 'Poverty Rate Given States')"
            ]
          },
          "metadata": {
            "tags": []
          },
          "execution_count": 7
        },
        {
          "output_type": "display_data",
          "data": {
            "image/png": "[encoded data removed]",
            "text/plain": [
              "<Figure size 1080x720 with 1 Axes>"
            ]
          },
          "metadata": {
            "tags": [],
            "needs_background": "light"
          }
        }
      ]
    },
    {
      "cell_type": "markdown",
      "metadata": {
        "id": "I9AuN6EIcO_V",
        "colab_type": "text"
      },
      "source": [
        "Lets create BarChart for house hold income similiar to poverty rate for given states."
      ]
    },
    {
      "cell_type": "code",
      "metadata": {
        "trusted": true,
        "id": "69fclM95cO_X",
        "colab_type": "code",
        "colab": {}
      },
      "source": [
        "median_house_hold_income.describe()"
      ],
      "execution_count": 0,
      "outputs": []
    },
    {
      "cell_type": "code",
      "metadata": {
        "trusted": true,
        "id": "299IsliqcO_e",
        "colab_type": "code",
        "colab": {}
      },
      "source": [
        "median_house_hold_income[\"Median Income\"].head()"
      ],
      "execution_count": 0,
      "outputs": []
    },
    {
      "cell_type": "code",
      "metadata": {
        "trusted": true,
        "id": "yxcuB7bCcO_t",
        "colab_type": "code",
        "colab": {}
      },
      "source": [
        "median_house_hold_income.count()"
      ],
      "execution_count": 0,
      "outputs": []
    },
    {
      "cell_type": "code",
      "metadata": {
        "trusted": true,
        "id": "thDh9WxRcO_0",
        "colab_type": "code",
        "colab": {}
      },
      "source": [
        "median_house_hold_income[\"Median Income\"].str.isnumeric()"
      ],
      "execution_count": 0,
      "outputs": []
    },
    {
      "cell_type": "code",
      "metadata": {
        "trusted": true,
        "id": "9SNr1lMKcO_9",
        "colab_type": "code",
        "colab": {}
      },
      "source": [
        "iFlowStatus = median_house_hold_income[median_house_hold_income['Median Income'].str.contains('iFlow', na=False)]['Status']\n",
        "print(iFlowStatus)"
      ],
      "execution_count": 0,
      "outputs": []
    },
    {
      "cell_type": "markdown",
      "metadata": {
        "id": "xbTjD83ZcPAD",
        "colab_type": "text"
      },
      "source": [
        "# median_house_hold_income_clean contains some values like (X) which I am not able to clean. In excel, because data has more than 10,000 unique value, not able to find by filter feature of data option in excel sheet. Saving it to solve it later."
      ]
    },
    {
      "cell_type": "code",
      "metadata": {
        "trusted": true,
        "id": "OteiI-rQcPAF",
        "colab_type": "code",
        "colab": {}
      },
      "source": [
        "#median_house_hold_income['Median Income'] = median_house_hold_income['Median Income'].str.replace('-', '0').str.replace('(X)', '0').str.replace('(0)', '0').str.replace('2,500-', '0')\n",
        "#median_house_hold_income['Median Income'] = median_house_hold_income['Median Income'].dropna()\n",
        "median_house_hold_income_clean['Median Income'].replace(['-'],0.0,inplace=True)\n",
        "#is_numeric = median_house_hold_income[\"Median Income\"].str.isnumeric()\n",
        "#median_house_hold_income['Median Income'] = median_house_hold_income['Median Income'].drop(median_house_hold_income['Median Income'] =='(0)')\n",
        "#median_house_hold_income[\"Median Income\"].replace(['(X)'],0.0,inplace=True)\n",
        "#median_house_hold_income[\"Median Income\"].replace([''],0.0,inplace=True)\n",
        "#median_house_hold_income['Median Income'] = median_house_hold_income['Median Income'].str.replace('-', '0').str.replace('(X)', '0').str.replace('(0)', '0').str.replace('2,500-', '0')\n",
        "#median_house_hold_income['Median Income'] = median_house_hold_income['Median Income'].replace(to_replace='None', value=np.nan).dropna()\n",
        "#median_house_hold_income = median_house_hold_income[is_numeric] \n",
        "median_house_hold_income_clean['Median Income'] = median_house_hold_income_clean['Median Income'].astype(float)\n",
        "area_list = list(median_house_hold_income_clean['Geographic Area'].unique())\n",
        "area_median_ratio = []\n",
        "\n",
        "for i in area_list:\n",
        "    x = median_house_hold_income_clean[median_house_hold_income_clean['Geographic Area'] == i ]\n",
        "    area_median_income = sum(x['Median Income'])/len(x)\n",
        "    area_median_ratio.append(area_median_income) \n",
        "    \n",
        "dataFM_areaList_areaMedianratio = pd.DataFrame({'area_list': area_list,'area_median_ratio':area_median_ratio})\n",
        "new_index = (dataFM_areaList_areaMedianratio['area_median_ratio'].sort_values(ascending=False)).index.values\n",
        "dataFM_areaList_areaMedianratio_sorted = dataFM_areaList_areaMedianratio.reindex(new_index)\n",
        "\n",
        "#visualisation\n",
        "\n",
        "plt.figure(figsize=(15,10))\n",
        "sns.barplot(x=dataFM_areaList_areaMedianratio_sorted['area_list'], y=dataFM_areaList_areaMedianratio_sorted['area_median_ratio'])\n",
        "plt.xticks(rotation= 45)\n",
        "plt.xlabel('States')\n",
        "plt.ylabel('Median Income Rate')\n",
        "plt.title('Income Rate Given States')"
      ],
      "execution_count": 0,
      "outputs": []
    },
    {
      "cell_type": "markdown",
      "metadata": {
        "id": "PaB-Y2TlcPAQ",
        "colab_type": "text"
      },
      "source": [
        "Move for next plot figure"
      ]
    },
    {
      "cell_type": "code",
      "metadata": {
        "trusted": true,
        "id": "f6QLCwSncPAT",
        "colab_type": "code",
        "colab": {}
      },
      "source": [
        "police_killing.head()"
      ],
      "execution_count": 0,
      "outputs": []
    },
    {
      "cell_type": "code",
      "metadata": {
        "trusted": true,
        "id": "Ul1wbJbRcPAZ",
        "colab_type": "code",
        "colab": {}
      },
      "source": [
        "separate_name = police_killing.name[police_killing.name != 'TK TK'].str.split()\n",
        "separate_name.head()"
      ],
      "execution_count": 0,
      "outputs": []
    },
    {
      "cell_type": "code",
      "metadata": {
        "trusted": true,
        "id": "FvO_l-dhcPAi",
        "colab_type": "code",
        "colab": {}
      },
      "source": [
        "separate_name_TK = police_killing.name[police_killing.name == 'TK TK'].str.split()\n",
        "separate_name_TK.head()"
      ],
      "execution_count": 0,
      "outputs": []
    },
    {
      "cell_type": "code",
      "metadata": {
        "trusted": true,
        "id": "HZ0oOhWVcPAo",
        "colab_type": "code",
        "colab": {}
      },
      "source": [
        "first_name,last_name = zip(*separate_name)\n",
        "first_name\n",
        "#last_name"
      ],
      "execution_count": 0,
      "outputs": []
    },
    {
      "cell_type": "code",
      "metadata": {
        "trusted": true,
        "id": "PTeGKqXTcPAt",
        "colab_type": "code",
        "colab": {}
      },
      "source": [
        "last_name"
      ],
      "execution_count": 0,
      "outputs": []
    },
    {
      "cell_type": "code",
      "metadata": {
        "trusted": true,
        "id": "wy1ksq6VcPAz",
        "colab_type": "code",
        "colab": {}
      },
      "source": [
        "name_list = first_name + last_name\n",
        "name_list"
      ],
      "execution_count": 0,
      "outputs": []
    },
    {
      "cell_type": "code",
      "metadata": {
        "trusted": true,
        "id": "QbPNhZz9cPA5",
        "colab_type": "code",
        "colab": {}
      },
      "source": [
        "name_count = Counter(name_list)\n",
        "most_common_names = name_count.most_common(15)\n",
        "most_common_names"
      ],
      "execution_count": 0,
      "outputs": []
    },
    {
      "cell_type": "code",
      "metadata": {
        "trusted": true,
        "id": "9nild8L7cPA9",
        "colab_type": "code",
        "colab": {}
      },
      "source": [
        "x,y = zip(*most_common_names)\n",
        "x,y=list(x),list(y)\n",
        "x"
      ],
      "execution_count": 0,
      "outputs": []
    },
    {
      "cell_type": "code",
      "metadata": {
        "trusted": true,
        "id": "LYQ9pbYYcPBF",
        "colab_type": "code",
        "colab": {}
      },
      "source": [
        "y"
      ],
      "execution_count": 0,
      "outputs": []
    },
    {
      "cell_type": "code",
      "metadata": {
        "trusted": true,
        "id": "DdZjwZTdcPBJ",
        "colab_type": "code",
        "colab": {}
      },
      "source": [
        "#now plot figure based on common names and count available to us\n",
        "plt.figure(figsize=(15,10))\n",
        "ax = sns.barplot(x=x, y=y, palette = sns.cubehelix_palette(len(x),reverse=True))\n",
        "plt.xlabel('Name or Surname of people killed')\n",
        "plt.ylabel('Frequency')\n",
        "plt.title('Most common 15 Names or SurNames of killed people')"
      ],
      "execution_count": 0,
      "outputs": []
    },
    {
      "cell_type": "markdown",
      "metadata": {
        "id": "cQSFQoA-H-Zz",
        "colab_type": "text"
      },
      "source": [
        "Now lets move to another data for plotting another visualisation using seaboarn."
      ]
    },
    {
      "cell_type": "code",
      "metadata": {
        "id": "mjbJLG8pIIO6",
        "colab_type": "code",
        "colab": {}
      },
      "source": [
        "percentage_over_25_compltd_high_school.head()"
      ],
      "execution_count": 0,
      "outputs": []
    },
    {
      "cell_type": "code",
      "metadata": {
        "id": "ClobnFNoInqi",
        "colab_type": "code",
        "colab": {}
      },
      "source": [
        "#High school graduation rate state wise\n",
        "percentage_over_25_compltd_high_school.percent_completed_hs.replace(['-'],0.0,inplace=True)#\n",
        "#percentage_over_25_compltd_high_school.percent_completed_hs.describe()\n",
        "percentage_over_25_compltd_high_school.percent_completed_hs = percentage_over_25_compltd_high_school.percent_completed_hs.astype(float)\n",
        "#percentage_over_25_compltd_high_school.percent_completed_hs.describe()\n",
        "area_list = list(percentage_over_25_compltd_high_school['Geographic Area'].unique())\n",
        "area_high_school = []\n",
        "for al in area_list:\n",
        "  cities_under_single_GA = percentage_over_25_compltd_high_school[percentage_over_25_compltd_high_school['Geographic Area'] == al]\n",
        "  area_high_school_rate = sum(cities_under_single_GA.percent_completed_hs) / len(cities_under_single_GA)\n",
        "  area_high_school.append(area_high_school_rate)  \n",
        "# Sorting data before visualising it \n",
        "data = pd.DataFrame({'area_list' : area_list, 'area_highschool_ratio':area_high_school }) # create a dictionary for area list and high school rate\n",
        "new_index = (data['area_highschool_ratio'].sort_values(ascending=True)).index.values\n",
        "sorted_data2 = data.reindex(new_index)\n",
        "#done with preprocesing, ready for next step"
      ],
      "execution_count": 0,
      "outputs": []
    },
    {
      "cell_type": "code",
      "metadata": {
        "id": "xulZNRdgPSDN",
        "colab_type": "code",
        "outputId": "5e07483a-a905-480a-b49d-ec7b1c89f827",
        "colab": {
          "base_uri": "https://localhost:8080/",
          "height": 646
        }
      },
      "source": [
        "plt.figure(figsize=(15,10))\n",
        "sns.barplot(x=sorted_data2.area_list, y= sorted_data2.area_highschool_ratio)\n",
        "plt.xticks(rotation = 90)\n",
        "plt.xlabel('States')\n",
        "plt.ylabel('High School Graduation Rate')\n",
        "plt.title(\"Percentage of high school completed by over 25 by state wise\")"
      ],
      "execution_count": 9,
      "outputs": [
        {
          "output_type": "execute_result",
          "data": {
            "text/plain": [
              "Text(0.5, 1.0, 'Percentage of high school completed by over 25 by state wise')"
            ]
          },
          "metadata": {
            "tags": []
          },
          "execution_count": 9
        },
        {
          "output_type": "display_data",
          "data": {
            "image/png": "[encoded data removed]",
            "text/plain": [
              "<Figure size 1080x720 with 1 Axes>"
            ]
          },
          "metadata": {
            "tags": [],
            "needs_background": "light"
          }
        }
      ]
    },
    {
      "cell_type": "markdown",
      "metadata": {
        "id": "n5mqjWVwUZuM",
        "colab_type": "text"
      },
      "source": [
        "Next visualisation is for race shared by each state."
      ]
    },
    {
      "cell_type": "code",
      "metadata": {
        "id": "iXOK8l5nUnQo",
        "colab_type": "code",
        "colab": {}
      },
      "source": [
        "race_by_city.head()"
      ],
      "execution_count": 0,
      "outputs": []
    },
    {
      "cell_type": "code",
      "metadata": {
        "id": "SGcljslCVBKq",
        "colab_type": "code",
        "colab": {}
      },
      "source": [
        "race_by_city.info()"
      ],
      "execution_count": 0,
      "outputs": []
    },
    {
      "cell_type": "code",
      "metadata": {
        "id": "SQSMJO5FVWrH",
        "colab_type": "code",
        "colab": {}
      },
      "source": [
        "# Percentage of state's population categorised by race\n",
        "race_by_city.replace(['-'],0.0,inplace=True)\n",
        "race_by_city.replace(['(X)'],0.0,inplace=True)\n",
        "race_by_city.loc[:,['share_white','share_black','share_native_american','share_asian','share_hispanic']] = race_by_city.loc[:,['share_white','share_black','share_native_american','share_asian','share_hispanic']].astype(float)\n",
        "area_list = list(race_by_city['Geographic area'].unique())\n",
        "share_white = []\n",
        "share_black = []\n",
        "share_native_american = []\n",
        "share_asian = []\n",
        "share_hispanic = []\n",
        "for al in area_list:\n",
        "  x = race_by_city[race_by_city['Geographic area'] == al]\n",
        "  share_white.append(sum(x.share_white)/len(x))\n",
        "  share_black.append(sum(x.share_black)/len(x))\n",
        "  share_native_american.append(sum(x.share_native_american)/len(x))\n",
        "  share_asian.append(sum(x.share_asian)/len(x))\n",
        "  share_hispanic.append(sum(x.share_hispanic)/len(x))\n",
        "#Pre-processing for visualisation ends here  "
      ],
      "execution_count": 0,
      "outputs": []
    },
    {
      "cell_type": "code",
      "metadata": {
        "id": "Yhxzn7YjaZ6X",
        "colab_type": "code",
        "outputId": "806fd52d-87b5-4003-e1bb-9b0431dede6d",
        "colab": {
          "base_uri": "https://localhost:8080/",
          "height": 948
        }
      },
      "source": [
        "f,ax = plt.subplots(figsize = (9,15))\n",
        "sns.barplot(x=share_white, y=area_list,color = 'blue', alpha = 0.5, label = 'White')\n",
        "sns.barplot(x=share_black, y=area_list,color = 'black', alpha = 0.5, label = 'Black')\n",
        "sns.barplot(x=share_asian, y=area_list,color = 'red', alpha = 0.5, label = 'Asian')\n",
        "sns.barplot(x=share_hispanic, y=area_list,color = 'yellow', alpha = 0.5, label = 'Hispanic')\n",
        "sns.barplot(x=share_native_american, y=area_list,color = 'green', alpha = 0.5, label = 'Native American')\n",
        "ax.legend(loc='upper right',frameon = True)\n",
        "ax.set(xlabel='Percentage of Races', ylabel = 'State', title = 'Sates population share by Races')"
      ],
      "execution_count": 6,
      "outputs": [
        {
          "output_type": "execute_result",
          "data": {
            "text/plain": [
              "[Text(0, 0.5, 'State'),\n",
              " Text(0.5, 0, 'Percentage of Races'),\n",
              " Text(0.5, 1.0, 'Sates population share by Races')]"
            ]
          },
          "metadata": {
            "tags": []
          },
          "execution_count": 6
        },
        {
          "output_type": "display_data",
          "data": {
            "image/png": "[encoded data removed]",
            "text/plain": [
              "<Figure size 648x1080 with 1 Axes>"
            ]
          },
          "metadata": {
            "tags": [],
            "needs_background": "light"
          }
        }
      ]
    },
    {
      "cell_type": "markdown",
      "metadata": {
        "id": "gM_J7bIMhlgK",
        "colab_type": "text"
      },
      "source": [
        "# Visualise another diagram showing both poverty ratio and education level."
      ]
    },
    {
      "cell_type": "code",
      "metadata": {
        "id": "RfuaN1TJh8Cu",
        "colab_type": "code",
        "colab": {
          "base_uri": "https://localhost:8080/",
          "height": 206
        },
        "outputId": "88ee65a4-7ca2-49ef-a227-b969e08e97ee"
      },
      "source": [
        "dataFM_areaList_areaPovertyratio_sorted.area_poverty_ratio = dataFM_areaList_areaPovertyratio_sorted.area_poverty_ratio / max(dataFM_areaList_areaPovertyratio_sorted.area_poverty_ratio)\n",
        "sorted_data2.area_highschool_ratio = sorted_data2.area_highschool_ratio / max(sorted_data2.area_highschool_ratio)\n",
        "data = pd.concat([dataFM_areaList_areaPovertyratio_sorted, sorted_data2.area_highschool_ratio],axis=1)\n",
        "data.sort_values('area_poverty_ratio',inplace=True)\n",
        "data.head()\n",
        "#Data is ready for plotting"
      ],
      "execution_count": 12,
      "outputs": [
        {
          "output_type": "execute_result",
          "data": {
            "text/html": [
              "<div>\n",
              "<style scoped>\n",
              "    .dataframe tbody tr th:only-of-type {\n",
              "        vertical-align: middle;\n",
              "    }\n",
              "\n",
              "    .dataframe tbody tr th {\n",
              "        vertical-align: top;\n",
              "    }\n",
              "\n",
              "    .dataframe thead th {\n",
              "        text-align: right;\n",
              "    }\n",
              "</style>\n",
              "<table border=\"1\" class=\"dataframe\">\n",
              "  <thead>\n",
              "    <tr style=\"text-align: right;\">\n",
              "      <th></th>\n",
              "      <th>area_list</th>\n",
              "      <th>area_poverty_ratio</th>\n",
              "      <th>area_highschool_ratio</th>\n",
              "    </tr>\n",
              "  </thead>\n",
              "  <tbody>\n",
              "    <tr>\n",
              "      <th>30</th>\n",
              "      <td>NJ</td>\n",
              "      <td>0.303558</td>\n",
              "      <td>0.983615</td>\n",
              "    </tr>\n",
              "    <tr>\n",
              "      <th>50</th>\n",
              "      <td>WY</td>\n",
              "      <td>0.337139</td>\n",
              "      <td>0.912479</td>\n",
              "    </tr>\n",
              "    <tr>\n",
              "      <th>6</th>\n",
              "      <td>CT</td>\n",
              "      <td>0.339883</td>\n",
              "      <td>0.995254</td>\n",
              "    </tr>\n",
              "    <tr>\n",
              "      <th>21</th>\n",
              "      <td>MA</td>\n",
              "      <td>0.355090</td>\n",
              "      <td>1.000000</td>\n",
              "    </tr>\n",
              "    <tr>\n",
              "      <th>20</th>\n",
              "      <td>MD</td>\n",
              "      <td>0.382097</td>\n",
              "      <td>0.957107</td>\n",
              "    </tr>\n",
              "  </tbody>\n",
              "</table>\n",
              "</div>"
            ],
            "text/plain": [
              "   area_list  area_poverty_ratio  area_highschool_ratio\n",
              "30        NJ            0.303558               0.983615\n",
              "50        WY            0.337139               0.912479\n",
              "6         CT            0.339883               0.995254\n",
              "21        MA            0.355090               1.000000\n",
              "20        MD            0.382097               0.957107"
            ]
          },
          "metadata": {
            "tags": []
          },
          "execution_count": 12
        }
      ]
    },
    {
      "cell_type": "code",
      "metadata": {
        "id": "zsRcwBv0mntt",
        "colab_type": "code",
        "colab": {
          "base_uri": "https://localhost:8080/",
          "height": 592
        },
        "outputId": "4cc60c52-23b3-48ef-c2e9-b120f1379c9b"
      },
      "source": [
        "#let's plot point plot\n",
        "f,ax1 = plt.subplots(figsize=(20,10))\n",
        "sns.pointplot(x='area_list', y='area_poverty_ratio',data=data,color='yellow',alpha=0.8)\n",
        "sns.pointplot(x='area_list', y='area_highschool_ratio',data=data,color='blue',alpha=0.8)\n",
        "plt.text(35,0.6,'High School Graduation Ratio',color='blue',fontsize=17,style='italic')\n",
        "plt.text(35,0.55,'Area Poverty Ratio',color='yellow',fontsize=17,style='italic')\n",
        "plt.xlabel('States',fontsize = 15, color='green')\n",
        "plt.ylabel('Values',fontsize = 15, color='red')\n",
        "plt.title('High School Graduate VS Poverty Ratio Statewise',fontsize = 20, color='black')\n",
        "plt.grid()"
      ],
      "execution_count": 19,
      "outputs": [
        {
          "output_type": "display_data",
          "data": {
            "image/png": "[encoded data removed]",
            "text/plain": [
              "<Figure size 1440x720 with 1 Axes>"
            ]
          },
          "metadata": {
            "tags": [],
            "needs_background": "light"
          }
        }
      ]
    },
    {
      "cell_type": "code",
      "metadata": {
        "id": "GqIfbC5BkyL8",
        "colab_type": "code",
        "colab": {
          "base_uri": "https://localhost:8080/",
          "height": 206
        },
        "outputId": "3949c334-c3dc-4a34-a986-7c9fb0439b4c"
      },
      "source": [
        "dataFM_areaList_areaPovertyratio_sorted.head()"
      ],
      "execution_count": 10,
      "outputs": [
        {
          "output_type": "execute_result",
          "data": {
            "text/html": [
              "<div>\n",
              "<style scoped>\n",
              "    .dataframe tbody tr th:only-of-type {\n",
              "        vertical-align: middle;\n",
              "    }\n",
              "\n",
              "    .dataframe tbody tr th {\n",
              "        vertical-align: top;\n",
              "    }\n",
              "\n",
              "    .dataframe thead th {\n",
              "        text-align: right;\n",
              "    }\n",
              "</style>\n",
              "<table border=\"1\" class=\"dataframe\">\n",
              "  <thead>\n",
              "    <tr style=\"text-align: right;\">\n",
              "      <th></th>\n",
              "      <th>area_list</th>\n",
              "      <th>area_poverty_ratio</th>\n",
              "    </tr>\n",
              "  </thead>\n",
              "  <tbody>\n",
              "    <tr>\n",
              "      <th>24</th>\n",
              "      <td>MS</td>\n",
              "      <td>26.884254</td>\n",
              "    </tr>\n",
              "    <tr>\n",
              "      <th>2</th>\n",
              "      <td>AZ</td>\n",
              "      <td>25.268071</td>\n",
              "    </tr>\n",
              "    <tr>\n",
              "      <th>10</th>\n",
              "      <td>GA</td>\n",
              "      <td>23.663636</td>\n",
              "    </tr>\n",
              "    <tr>\n",
              "      <th>3</th>\n",
              "      <td>AR</td>\n",
              "      <td>22.963216</td>\n",
              "    </tr>\n",
              "    <tr>\n",
              "      <th>31</th>\n",
              "      <td>NM</td>\n",
              "      <td>22.507675</td>\n",
              "    </tr>\n",
              "  </tbody>\n",
              "</table>\n",
              "</div>"
            ],
            "text/plain": [
              "   area_list  area_poverty_ratio\n",
              "24        MS           26.884254\n",
              "2         AZ           25.268071\n",
              "10        GA           23.663636\n",
              "3         AR           22.963216\n",
              "31        NM           22.507675"
            ]
          },
          "metadata": {
            "tags": []
          },
          "execution_count": 10
        }
      ]
    },
    {
      "cell_type": "code",
      "metadata": {
        "id": "vDC64lXyk8d0",
        "colab_type": "code",
        "colab": {
          "base_uri": "https://localhost:8080/",
          "height": 128
        },
        "outputId": "5f0eec35-ff1e-44bb-d2c1-712c54ee011a"
      },
      "source": [
        "sorted_data2.area_highschool_ratio.head()"
      ],
      "execution_count": 11,
      "outputs": [
        {
          "output_type": "execute_result",
          "data": {
            "text/plain": [
              "43    74.086949\n",
              "24    78.470718\n",
              "10    78.634450\n",
              "31    78.971783\n",
              "18    79.122363\n",
              "Name: area_highschool_ratio, dtype: float64"
            ]
          },
          "metadata": {
            "tags": []
          },
          "execution_count": 11
        }
      ]
    }
  ]
}