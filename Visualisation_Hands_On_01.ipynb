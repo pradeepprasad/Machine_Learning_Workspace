{
  "nbformat": 4,
  "nbformat_minor": 0,
  "metadata": {
    "kernelspec": {
      "language": "python",
      "display_name": "Python 3",
      "name": "python3"
    },
    "language_info": {
      "pygments_lexer": "ipython3",
      "nbconvert_exporter": "python",
      "version": "3.6.4",
      "file_extension": ".py",
      "codemirror_mode": {
        "name": "ipython",
        "version": 3
      },
      "name": "python",
      "mimetype": "text/x-python"
    },
    "colab": {
      "name": "Visualisation_Hands_On_01.ipynb",
      "provenance": [],
      "collapsed_sections": [],
      "include_colab_link": true
    }
  },
  "cells": [
    {
      "cell_type": "markdown",
      "metadata": {
        "id": "view-in-github",
        "colab_type": "text"
      },
      "source": [
        "<a href=\"https://colab.research.google.com/github/pradeepprasad/Machine_Learning_Workspace/blob/master/Visualisation_Hands_On_01.ipynb\" target=\"_parent\"><img src=\"https://colab.research.google.com/assets/colab-badge.svg\" alt=\"Open In Colab\"/></a>"
      ]
    },
    {
      "cell_type": "code",
      "metadata": {
        "id": "jNuZ21I_GqRM",
        "colab_type": "code",
        "colab": {
          "base_uri": "https://localhost:8080/",
          "height": 129
        },
        "outputId": "5f85229c-6afe-4358-aed4-ea946958e2b6"
      },
      "source": [
        "from google.colab import drive\n",
        "drive.mount('/content/drive')"
      ],
      "execution_count": 1,
      "outputs": [
        {
          "output_type": "stream",
          "text": [
            "Go to this URL in a browser: https://accounts.google.com/o/oauth2/auth?client_id=947318989803-6bn6qk8qdgf4n4g3pfee6491hc0brc4i.apps.googleusercontent.com&redirect_uri=urn%3aietf%3awg%3aoauth%3a2.0%3aoob&response_type=code&scope=email%20https%3a%2f%2fwww.googleapis.com%2fauth%2fdocs.test%20https%3a%2f%2fwww.googleapis.com%2fauth%2fdrive%20https%3a%2f%2fwww.googleapis.com%2fauth%2fdrive.photos.readonly%20https%3a%2f%2fwww.googleapis.com%2fauth%2fpeopleapi.readonly\n",
            "\n",
            "Enter your authorization code:\n",
            "··········\n",
            "Mounted at /content/drive\n"
          ],
          "name": "stdout"
        }
      ]
    },
    {
      "cell_type": "code",
      "metadata": {
        "_uuid": "8f2839f25d086af736a60e9eeb907d3b93b6e0e5",
        "_cell_guid": "b1076dfc-b9ad-4769-8c92-a6c4dae69d19",
        "trusted": true,
        "id": "CgCcBsOkcO98",
        "colab_type": "code",
        "outputId": "33cbbe4e-0d89-4e3d-b361-1839706b5b22",
        "colab": {
          "base_uri": "https://localhost:8080/",
          "height": 185
        }
      },
      "source": [
        "# This Python 3 environment comes with many helpful analytics libraries installed\n",
        "# It is defined by the kaggle/python docker image: https://github.com/kaggle/docker-python\n",
        "# For example, here's several helpful packages to load in \n",
        "import numpy as np # linear algebra\n",
        "import pandas as pd # data processing, CSV file I/O (e.g. pd.read_csv)\n",
        "import seaborn as sns # get seaborn libraries\n",
        "import matplotlib.pyplot as plt\n",
        "#import matplotlib as plt\n",
        "#from matplotlib import *\n",
        "from collections import Counter\n",
        "%matplotlib inline\n",
        "# Input data files are available in the \"../input/\" directory.\n",
        "# For example, running this (by clicking run or pressing Shift+Enter) will list all files under the input directory\n",
        "from subprocess import check_output\n",
        "print(check_output([\"ls\",\"/content/drive/My Drive/data/fatal-police-shootings-in-the-us\"]).decode(\"utf8\"))\n",
        "# Any results you write to the current directory are saved as output."
      ],
      "execution_count": 2,
      "outputs": [
        {
          "output_type": "stream",
          "text": [
            "MedianHouseholdIncome2015.csv\n",
            "PercentagePeopleBelowPovertyLevel.csv\n",
            "PercentOver25CompletedHighSchool.csv\n",
            "PoliceKillingsUS.csv\n",
            "ShareRaceByCity.csv\n",
            "\n"
          ],
          "name": "stdout"
        },
        {
          "output_type": "stream",
          "text": [
            "/usr/local/lib/python3.6/dist-packages/statsmodels/tools/_testing.py:19: FutureWarning: pandas.util.testing is deprecated. Use the functions in the public API at pandas.testing instead.\n",
            "  import pandas.util.testing as tm\n"
          ],
          "name": "stderr"
        }
      ]
    },
    {
      "cell_type": "code",
      "metadata": {
        "_uuid": "d629ff2d2480ee46fbb7e2d37f6b5fab8052498a",
        "_cell_guid": "79c7e3d0-c299-4dcb-8224-4455121ee9b0",
        "trusted": true,
        "id": "s2ApPbx9cO-O",
        "colab_type": "code",
        "colab": {}
      },
      "source": [
        "median_house_hold_income = pd.read_csv(\"/content/drive/My Drive/data/fatal-police-shootings-in-the-us/MedianHouseholdIncome2015.csv\",encoding=\"unicode_escape\")\n",
        "median_house_hold_income = pd.read_csv(\"/content/drive/My Drive/data/fatal-police-shootings-in-the-us/MedianHouseholdIncome2015.csv\",encoding=\"windows-1252\")\n",
        "#median_house_hold_income_clean = pd.read_csv(\"../input/median-householdincome2015-clean/MedianHouseholdIncome2015_clean.csv\",encoding=\"windows-1252\")\n",
        "percentage_below_poverty_line = pd.read_csv(\"/content/drive/My Drive/data/fatal-police-shootings-in-the-us/PercentagePeopleBelowPovertyLevel.csv\",encoding=\"windows-1252\")\n",
        "percentage_over_25_compltd_high_school = pd.read_csv(\"/content/drive/My Drive/data/fatal-police-shootings-in-the-us/PercentOver25CompletedHighSchool.csv\",encoding=\"windows-1252\")\n",
        "police_killing = pd.read_csv(\"/content/drive/My Drive/data/fatal-police-shootings-in-the-us/PoliceKillingsUS.csv\",encoding=\"windows-1252\")\n",
        "race_by_city = pd.read_csv(\"/content/drive/My Drive/data/fatal-police-shootings-in-the-us/ShareRaceByCity.csv\",encoding=\"windows-1252\")"
      ],
      "execution_count": 0,
      "outputs": []
    },
    {
      "cell_type": "code",
      "metadata": {
        "trusted": true,
        "id": "wATfq2K-cO-a",
        "colab_type": "code",
        "outputId": "f9b09708-4969-4f3d-b2ed-689fcff51cac",
        "colab": {
          "base_uri": "https://localhost:8080/",
          "height": 206
        }
      },
      "source": [
        "median_house_hold_income.head()"
      ],
      "execution_count": 4,
      "outputs": [
        {
          "output_type": "execute_result",
          "data": {
            "text/html": [
              "<div>\n",
              "<style scoped>\n",
              "    .dataframe tbody tr th:only-of-type {\n",
              "        vertical-align: middle;\n",
              "    }\n",
              "\n",
              "    .dataframe tbody tr th {\n",
              "        vertical-align: top;\n",
              "    }\n",
              "\n",
              "    .dataframe thead th {\n",
              "        text-align: right;\n",
              "    }\n",
              "</style>\n",
              "<table border=\"1\" class=\"dataframe\">\n",
              "  <thead>\n",
              "    <tr style=\"text-align: right;\">\n",
              "      <th></th>\n",
              "      <th>Geographic Area</th>\n",
              "      <th>City</th>\n",
              "      <th>Median Income</th>\n",
              "    </tr>\n",
              "  </thead>\n",
              "  <tbody>\n",
              "    <tr>\n",
              "      <th>0</th>\n",
              "      <td>AL</td>\n",
              "      <td>Abanda CDP</td>\n",
              "      <td>11207</td>\n",
              "    </tr>\n",
              "    <tr>\n",
              "      <th>1</th>\n",
              "      <td>AL</td>\n",
              "      <td>Abbeville city</td>\n",
              "      <td>25615</td>\n",
              "    </tr>\n",
              "    <tr>\n",
              "      <th>2</th>\n",
              "      <td>AL</td>\n",
              "      <td>Adamsville city</td>\n",
              "      <td>42575</td>\n",
              "    </tr>\n",
              "    <tr>\n",
              "      <th>3</th>\n",
              "      <td>AL</td>\n",
              "      <td>Addison town</td>\n",
              "      <td>37083</td>\n",
              "    </tr>\n",
              "    <tr>\n",
              "      <th>4</th>\n",
              "      <td>AL</td>\n",
              "      <td>Akron town</td>\n",
              "      <td>21667</td>\n",
              "    </tr>\n",
              "  </tbody>\n",
              "</table>\n",
              "</div>"
            ],
            "text/plain": [
              "  Geographic Area             City Median Income\n",
              "0              AL       Abanda CDP         11207\n",
              "1              AL   Abbeville city         25615\n",
              "2              AL  Adamsville city         42575\n",
              "3              AL     Addison town         37083\n",
              "4              AL       Akron town         21667"
            ]
          },
          "metadata": {
            "tags": []
          },
          "execution_count": 4
        }
      ]
    },
    {
      "cell_type": "code",
      "metadata": {
        "trusted": true,
        "id": "FIzqriXYcO-i",
        "colab_type": "code",
        "colab": {}
      },
      "source": [
        "median_house_hold_income.tail()"
      ],
      "execution_count": 0,
      "outputs": []
    },
    {
      "cell_type": "code",
      "metadata": {
        "trusted": true,
        "id": "9MtJZemzcO-q",
        "colab_type": "code",
        "colab": {}
      },
      "source": [
        "race_by_city.head()"
      ],
      "execution_count": 0,
      "outputs": []
    },
    {
      "cell_type": "code",
      "metadata": {
        "trusted": true,
        "id": "WFT05mdEcO-y",
        "colab_type": "code",
        "colab": {}
      },
      "source": [
        "race_by_city.describe()"
      ],
      "execution_count": 0,
      "outputs": []
    },
    {
      "cell_type": "code",
      "metadata": {
        "trusted": true,
        "id": "EqGWpgJ_cO-7",
        "colab_type": "code",
        "colab": {}
      },
      "source": [
        "percentage_below_poverty_line['Geographic Area'].unique()"
      ],
      "execution_count": 0,
      "outputs": []
    },
    {
      "cell_type": "code",
      "metadata": {
        "trusted": true,
        "id": "xs2aNjk4cO_B",
        "colab_type": "code",
        "colab": {}
      },
      "source": [
        "percentage_below_poverty_line['Geographic Area'].describe()"
      ],
      "execution_count": 0,
      "outputs": []
    },
    {
      "cell_type": "markdown",
      "metadata": {
        "id": "FP0Jt8HmcO_J",
        "colab_type": "text"
      },
      "source": [
        "Lets draw bar chart with available data."
      ]
    },
    {
      "cell_type": "code",
      "metadata": {
        "trusted": true,
        "id": "lHAX5p-BcO_L",
        "colab_type": "code",
        "outputId": "dd9380fe-8e9a-4ee0-d2ac-8799e44f3cb0",
        "colab": {
          "base_uri": "https://localhost:8080/",
          "height": 648
        }
      },
      "source": [
        "percentage_below_poverty_line.poverty_rate.replace(['-'],0.0,inplace=True)\n",
        "percentage_below_poverty_line.poverty_rate = percentage_below_poverty_line.poverty_rate.astype(float)\n",
        "area_list = list(percentage_below_poverty_line['Geographic Area'].unique())\n",
        "area_poverty_ratio = []\n",
        "\n",
        "for i in area_list:\n",
        "    x = percentage_below_poverty_line[percentage_below_poverty_line['Geographic Area'] == i ]\n",
        "    area_poverty_rate = sum(x.poverty_rate)/len(x)\n",
        "    area_poverty_ratio.append(area_poverty_rate) \n",
        "    \n",
        "dataFM_areaList_areaPovertyratio = pd.DataFrame({'area_list': area_list,'area_poverty_ratio':area_poverty_ratio})\n",
        "new_index = (dataFM_areaList_areaPovertyratio['area_poverty_ratio'].sort_values(ascending=False)).index.values\n",
        "dataFM_areaList_areaPovertyratio_sorted = dataFM_areaList_areaPovertyratio.reindex(new_index)\n",
        "\n",
        "#visualisation\n",
        "\n",
        "plt.figure(figsize=(15,10))\n",
        "sns.barplot(x=dataFM_areaList_areaPovertyratio_sorted['area_list'], y=dataFM_areaList_areaPovertyratio_sorted['area_poverty_ratio'])\n",
        "plt.xticks(rotation= 45)\n",
        "plt.xlabel('States')\n",
        "plt.ylabel('Poverty Rate')\n",
        "plt.title('Poverty Rate Given States')\n"
      ],
      "execution_count": 5,
      "outputs": [
        {
          "output_type": "execute_result",
          "data": {
            "text/plain": [
              "Text(0.5, 1.0, 'Poverty Rate Given States')"
            ]
          },
          "metadata": {
            "tags": []
          },
          "execution_count": 5
        },
        {
          "output_type": "display_data",
          "data": {
            "image/png": "[encoded data removed]",
            "text/plain": [
              "<Figure size 1080x720 with 1 Axes>"
            ]
          },
          "metadata": {
            "tags": [],
            "needs_background": "light"
          }
        }
      ]
    },
    {
      "cell_type": "markdown",
      "metadata": {
        "id": "I9AuN6EIcO_V",
        "colab_type": "text"
      },
      "source": [
        "Lets create BarChart for house hold income similiar to poverty rate for given states."
      ]
    },
    {
      "cell_type": "code",
      "metadata": {
        "trusted": true,
        "id": "69fclM95cO_X",
        "colab_type": "code",
        "colab": {}
      },
      "source": [
        "median_house_hold_income.describe()"
      ],
      "execution_count": 0,
      "outputs": []
    },
    {
      "cell_type": "code",
      "metadata": {
        "trusted": true,
        "id": "299IsliqcO_e",
        "colab_type": "code",
        "colab": {}
      },
      "source": [
        "median_house_hold_income[\"Median Income\"].head()"
      ],
      "execution_count": 0,
      "outputs": []
    },
    {
      "cell_type": "code",
      "metadata": {
        "trusted": true,
        "id": "yxcuB7bCcO_t",
        "colab_type": "code",
        "colab": {}
      },
      "source": [
        "median_house_hold_income.count()"
      ],
      "execution_count": 0,
      "outputs": []
    },
    {
      "cell_type": "code",
      "metadata": {
        "trusted": true,
        "id": "thDh9WxRcO_0",
        "colab_type": "code",
        "colab": {}
      },
      "source": [
        "median_house_hold_income[\"Median Income\"].str.isnumeric()"
      ],
      "execution_count": 0,
      "outputs": []
    },
    {
      "cell_type": "code",
      "metadata": {
        "trusted": true,
        "id": "9SNr1lMKcO_9",
        "colab_type": "code",
        "colab": {}
      },
      "source": [
        "iFlowStatus = median_house_hold_income[median_house_hold_income['Median Income'].str.contains('iFlow', na=False)]['Status']\n",
        "print(iFlowStatus)"
      ],
      "execution_count": 0,
      "outputs": []
    },
    {
      "cell_type": "markdown",
      "metadata": {
        "id": "xbTjD83ZcPAD",
        "colab_type": "text"
      },
      "source": [
        "***median_house_hold_income_clean contains some values like (X) which I am not able to clean. In excel, because data has more than 10,000 unique value, not able to find by filter feature of data option in excel sheet. Saving it to solve it later. ***"
      ]
    },
    {
      "cell_type": "code",
      "metadata": {
        "trusted": true,
        "id": "OteiI-rQcPAF",
        "colab_type": "code",
        "colab": {}
      },
      "source": [
        "#median_house_hold_income['Median Income'] = median_house_hold_income['Median Income'].str.replace('-', '0').str.replace('(X)', '0').str.replace('(0)', '0').str.replace('2,500-', '0')\n",
        "#median_house_hold_income['Median Income'] = median_house_hold_income['Median Income'].dropna()\n",
        "median_house_hold_income_clean['Median Income'].replace(['-'],0.0,inplace=True)\n",
        "#is_numeric = median_house_hold_income[\"Median Income\"].str.isnumeric()\n",
        "#median_house_hold_income['Median Income'] = median_house_hold_income['Median Income'].drop(median_house_hold_income['Median Income'] =='(0)')\n",
        "#median_house_hold_income[\"Median Income\"].replace(['(X)'],0.0,inplace=True)\n",
        "#median_house_hold_income[\"Median Income\"].replace([''],0.0,inplace=True)\n",
        "#median_house_hold_income['Median Income'] = median_house_hold_income['Median Income'].str.replace('-', '0').str.replace('(X)', '0').str.replace('(0)', '0').str.replace('2,500-', '0')\n",
        "#median_house_hold_income['Median Income'] = median_house_hold_income['Median Income'].replace(to_replace='None', value=np.nan).dropna()\n",
        "#median_house_hold_income = median_house_hold_income[is_numeric] \n",
        "median_house_hold_income_clean['Median Income'] = median_house_hold_income_clean['Median Income'].astype(float)\n",
        "area_list = list(median_house_hold_income_clean['Geographic Area'].unique())\n",
        "area_median_ratio = []\n",
        "\n",
        "for i in area_list:\n",
        "    x = median_house_hold_income_clean[median_house_hold_income_clean['Geographic Area'] == i ]\n",
        "    area_median_income = sum(x['Median Income'])/len(x)\n",
        "    area_median_ratio.append(area_median_income) \n",
        "    \n",
        "dataFM_areaList_areaMedianratio = pd.DataFrame({'area_list': area_list,'area_median_ratio':area_median_ratio})\n",
        "new_index = (dataFM_areaList_areaMedianratio['area_median_ratio'].sort_values(ascending=False)).index.values\n",
        "dataFM_areaList_areaMedianratio_sorted = dataFM_areaList_areaMedianratio.reindex(new_index)\n",
        "\n",
        "#visualisation\n",
        "\n",
        "plt.figure(figsize=(15,10))\n",
        "sns.barplot(x=dataFM_areaList_areaMedianratio_sorted['area_list'], y=dataFM_areaList_areaMedianratio_sorted['area_median_ratio'])\n",
        "plt.xticks(rotation= 45)\n",
        "plt.xlabel('States')\n",
        "plt.ylabel('Median Income Rate')\n",
        "plt.title('Income Rate Given States')"
      ],
      "execution_count": 0,
      "outputs": []
    },
    {
      "cell_type": "markdown",
      "metadata": {
        "id": "PaB-Y2TlcPAQ",
        "colab_type": "text"
      },
      "source": [
        "Move for next plot figure"
      ]
    },
    {
      "cell_type": "code",
      "metadata": {
        "trusted": true,
        "id": "f6QLCwSncPAT",
        "colab_type": "code",
        "outputId": "bd5d3f16-cb28-4f66-b324-e010e8853116",
        "colab": {
          "base_uri": "https://localhost:8080/",
          "height": 206
        }
      },
      "source": [
        "police_killing.head()"
      ],
      "execution_count": 6,
      "outputs": [
        {
          "output_type": "execute_result",
          "data": {
            "text/html": [
              "<div>\n",
              "<style scoped>\n",
              "    .dataframe tbody tr th:only-of-type {\n",
              "        vertical-align: middle;\n",
              "    }\n",
              "\n",
              "    .dataframe tbody tr th {\n",
              "        vertical-align: top;\n",
              "    }\n",
              "\n",
              "    .dataframe thead th {\n",
              "        text-align: right;\n",
              "    }\n",
              "</style>\n",
              "<table border=\"1\" class=\"dataframe\">\n",
              "  <thead>\n",
              "    <tr style=\"text-align: right;\">\n",
              "      <th></th>\n",
              "      <th>id</th>\n",
              "      <th>name</th>\n",
              "      <th>date</th>\n",
              "      <th>manner_of_death</th>\n",
              "      <th>armed</th>\n",
              "      <th>age</th>\n",
              "      <th>gender</th>\n",
              "      <th>race</th>\n",
              "      <th>city</th>\n",
              "      <th>state</th>\n",
              "      <th>signs_of_mental_illness</th>\n",
              "      <th>threat_level</th>\n",
              "      <th>flee</th>\n",
              "      <th>body_camera</th>\n",
              "    </tr>\n",
              "  </thead>\n",
              "  <tbody>\n",
              "    <tr>\n",
              "      <th>0</th>\n",
              "      <td>3</td>\n",
              "      <td>Tim Elliot</td>\n",
              "      <td>02/01/15</td>\n",
              "      <td>shot</td>\n",
              "      <td>gun</td>\n",
              "      <td>53.0</td>\n",
              "      <td>M</td>\n",
              "      <td>A</td>\n",
              "      <td>Shelton</td>\n",
              "      <td>WA</td>\n",
              "      <td>True</td>\n",
              "      <td>attack</td>\n",
              "      <td>Not fleeing</td>\n",
              "      <td>False</td>\n",
              "    </tr>\n",
              "    <tr>\n",
              "      <th>1</th>\n",
              "      <td>4</td>\n",
              "      <td>Lewis Lee Lembke</td>\n",
              "      <td>02/01/15</td>\n",
              "      <td>shot</td>\n",
              "      <td>gun</td>\n",
              "      <td>47.0</td>\n",
              "      <td>M</td>\n",
              "      <td>W</td>\n",
              "      <td>Aloha</td>\n",
              "      <td>OR</td>\n",
              "      <td>False</td>\n",
              "      <td>attack</td>\n",
              "      <td>Not fleeing</td>\n",
              "      <td>False</td>\n",
              "    </tr>\n",
              "    <tr>\n",
              "      <th>2</th>\n",
              "      <td>5</td>\n",
              "      <td>John Paul Quintero</td>\n",
              "      <td>03/01/15</td>\n",
              "      <td>shot and Tasered</td>\n",
              "      <td>unarmed</td>\n",
              "      <td>23.0</td>\n",
              "      <td>M</td>\n",
              "      <td>H</td>\n",
              "      <td>Wichita</td>\n",
              "      <td>KS</td>\n",
              "      <td>False</td>\n",
              "      <td>other</td>\n",
              "      <td>Not fleeing</td>\n",
              "      <td>False</td>\n",
              "    </tr>\n",
              "    <tr>\n",
              "      <th>3</th>\n",
              "      <td>8</td>\n",
              "      <td>Matthew Hoffman</td>\n",
              "      <td>04/01/15</td>\n",
              "      <td>shot</td>\n",
              "      <td>toy weapon</td>\n",
              "      <td>32.0</td>\n",
              "      <td>M</td>\n",
              "      <td>W</td>\n",
              "      <td>San Francisco</td>\n",
              "      <td>CA</td>\n",
              "      <td>True</td>\n",
              "      <td>attack</td>\n",
              "      <td>Not fleeing</td>\n",
              "      <td>False</td>\n",
              "    </tr>\n",
              "    <tr>\n",
              "      <th>4</th>\n",
              "      <td>9</td>\n",
              "      <td>Michael Rodriguez</td>\n",
              "      <td>04/01/15</td>\n",
              "      <td>shot</td>\n",
              "      <td>nail gun</td>\n",
              "      <td>39.0</td>\n",
              "      <td>M</td>\n",
              "      <td>H</td>\n",
              "      <td>Evans</td>\n",
              "      <td>CO</td>\n",
              "      <td>False</td>\n",
              "      <td>attack</td>\n",
              "      <td>Not fleeing</td>\n",
              "      <td>False</td>\n",
              "    </tr>\n",
              "  </tbody>\n",
              "</table>\n",
              "</div>"
            ],
            "text/plain": [
              "   id                name      date  ... threat_level         flee  body_camera\n",
              "0   3          Tim Elliot  02/01/15  ...       attack  Not fleeing        False\n",
              "1   4    Lewis Lee Lembke  02/01/15  ...       attack  Not fleeing        False\n",
              "2   5  John Paul Quintero  03/01/15  ...        other  Not fleeing        False\n",
              "3   8     Matthew Hoffman  04/01/15  ...       attack  Not fleeing        False\n",
              "4   9   Michael Rodriguez  04/01/15  ...       attack  Not fleeing        False\n",
              "\n",
              "[5 rows x 14 columns]"
            ]
          },
          "metadata": {
            "tags": []
          },
          "execution_count": 6
        }
      ]
    },
    {
      "cell_type": "code",
      "metadata": {
        "trusted": true,
        "id": "Ul1wbJbRcPAZ",
        "colab_type": "code",
        "outputId": "de7969d7-d161-41de-d429-f879b0d14064",
        "colab": {
          "base_uri": "https://localhost:8080/",
          "height": 128
        }
      },
      "source": [
        "separate_name = police_killing.name[police_killing.name != 'TK TK'].str.split()\n",
        "separate_name.head()"
      ],
      "execution_count": 8,
      "outputs": [
        {
          "output_type": "execute_result",
          "data": {
            "text/plain": [
              "0             [Tim, Elliot]\n",
              "1      [Lewis, Lee, Lembke]\n",
              "2    [John, Paul, Quintero]\n",
              "3        [Matthew, Hoffman]\n",
              "4      [Michael, Rodriguez]\n",
              "Name: name, dtype: object"
            ]
          },
          "metadata": {
            "tags": []
          },
          "execution_count": 8
        }
      ]
    },
    {
      "cell_type": "code",
      "metadata": {
        "trusted": true,
        "id": "FvO_l-dhcPAi",
        "colab_type": "code",
        "outputId": "260b1ffa-a694-4f16-c5a3-ae0a20feb746",
        "colab": {
          "base_uri": "https://localhost:8080/",
          "height": 128
        }
      },
      "source": [
        "separate_name_TK = police_killing.name[police_killing.name == 'TK TK'].str.split()\n",
        "separate_name_TK.head()"
      ],
      "execution_count": 0,
      "outputs": [
        {
          "output_type": "execute_result",
          "data": {
            "text/plain": [
              "928     [TK, TK]\n",
              "1397    [TK, TK]\n",
              "1419    [TK, TK]\n",
              "1500    [TK, TK]\n",
              "1646    [TK, TK]\n",
              "Name: name, dtype: object"
            ]
          },
          "metadata": {
            "tags": []
          },
          "execution_count": 15
        }
      ]
    },
    {
      "cell_type": "code",
      "metadata": {
        "trusted": true,
        "id": "HZ0oOhWVcPAo",
        "colab_type": "code",
        "colab": {}
      },
      "source": [
        "first_name,last_name = zip(*separate_name)\n",
        "first_name\n",
        "#last_name"
      ],
      "execution_count": 0,
      "outputs": []
    },
    {
      "cell_type": "code",
      "metadata": {
        "trusted": true,
        "id": "PTeGKqXTcPAt",
        "colab_type": "code",
        "colab": {}
      },
      "source": [
        "last_name"
      ],
      "execution_count": 0,
      "outputs": []
    },
    {
      "cell_type": "code",
      "metadata": {
        "trusted": true,
        "id": "wy1ksq6VcPAz",
        "colab_type": "code",
        "colab": {}
      },
      "source": [
        "name_list = first_name + last_name\n",
        "name_list"
      ],
      "execution_count": 0,
      "outputs": []
    },
    {
      "cell_type": "code",
      "metadata": {
        "trusted": true,
        "id": "QbPNhZz9cPA5",
        "colab_type": "code",
        "outputId": "0ee90797-dcbc-42f3-c8db-f88a1f30b8e2",
        "colab": {
          "base_uri": "https://localhost:8080/",
          "height": 294
        }
      },
      "source": [
        "name_count = Counter(name_list)\n",
        "most_common_names = name_count.most_common(15)\n",
        "most_common_names"
      ],
      "execution_count": 0,
      "outputs": [
        {
          "output_type": "execute_result",
          "data": {
            "text/plain": [
              "[('Michael', 91),\n",
              " ('David', 57),\n",
              " ('James', 56),\n",
              " ('Robert', 48),\n",
              " ('Joseph', 48),\n",
              " ('William', 47),\n",
              " ('Daniel', 46),\n",
              " ('John', 42),\n",
              " ('Christopher', 40),\n",
              " ('Lee', 37),\n",
              " ('Richard', 36),\n",
              " ('J.', 32),\n",
              " ('Anthony', 31),\n",
              " ('Jose', 28),\n",
              " ('Joshua', 28)]"
            ]
          },
          "metadata": {
            "tags": []
          },
          "execution_count": 19
        }
      ]
    },
    {
      "cell_type": "code",
      "metadata": {
        "trusted": true,
        "id": "9nild8L7cPA9",
        "colab_type": "code",
        "outputId": "81686124-1334-4815-e936-f4ee168c7ddf",
        "colab": {
          "base_uri": "https://localhost:8080/",
          "height": 294
        }
      },
      "source": [
        "x,y = zip(*most_common_names)\n",
        "x,y=list(x),list(y)\n",
        "x"
      ],
      "execution_count": 0,
      "outputs": [
        {
          "output_type": "execute_result",
          "data": {
            "text/plain": [
              "['Michael',\n",
              " 'David',\n",
              " 'James',\n",
              " 'Robert',\n",
              " 'Joseph',\n",
              " 'William',\n",
              " 'Daniel',\n",
              " 'John',\n",
              " 'Christopher',\n",
              " 'Lee',\n",
              " 'Richard',\n",
              " 'J.',\n",
              " 'Anthony',\n",
              " 'Jose',\n",
              " 'Joshua']"
            ]
          },
          "metadata": {
            "tags": []
          },
          "execution_count": 20
        }
      ]
    },
    {
      "cell_type": "code",
      "metadata": {
        "trusted": true,
        "id": "LYQ9pbYYcPBF",
        "colab_type": "code",
        "outputId": "a600a0b9-fe2f-4ead-9d56-b51aa91818cf",
        "colab": {
          "base_uri": "https://localhost:8080/",
          "height": 35
        }
      },
      "source": [
        "y"
      ],
      "execution_count": 0,
      "outputs": [
        {
          "output_type": "execute_result",
          "data": {
            "text/plain": [
              "[91, 57, 56, 48, 48, 47, 46, 42, 40, 37, 36, 32, 31, 28, 28]"
            ]
          },
          "metadata": {
            "tags": []
          },
          "execution_count": 21
        }
      ]
    },
    {
      "cell_type": "code",
      "metadata": {
        "trusted": true,
        "id": "DdZjwZTdcPBJ",
        "colab_type": "code",
        "outputId": "592f67b5-6ed8-4953-f94f-8d60d0cf207e",
        "colab": {
          "base_uri": "https://localhost:8080/",
          "height": 639
        }
      },
      "source": [
        "#now plot figure based on common names and count available to us\n",
        "plt.figure(figsize=(15,10))\n",
        "ax = sns.barplot(x=x, y=y, palette = sns.cubehelix_palette(len(x),reverse=True))\n",
        "plt.xlabel('Name or Surname of people killed')\n",
        "plt.ylabel('Frequency')\n",
        "plt.title('Most common 15 Names or SurNames of killed people')"
      ],
      "execution_count": 0,
      "outputs": [
        {
          "output_type": "execute_result",
          "data": {
            "text/plain": [
              "Text(0.5, 1.0, 'Most common 15 Names or SurNames of killed people')"
            ]
          },
          "metadata": {
            "tags": []
          },
          "execution_count": 22
        },
        {
          "output_type": "display_data",
          "data": {
            "image/png": "[encoded data removed]",
            "text/plain": [
              "<Figure size 1080x720 with 1 Axes>"
            ]
          },
          "metadata": {
            "tags": [],
            "needs_background": "light"
          }
        }
      ]
    },
    {
      "cell_type": "markdown",
      "metadata": {
        "id": "cQSFQoA-H-Zz",
        "colab_type": "text"
      },
      "source": [
        "Now lets move to another data for plotting another visualisation using seaboarn."
      ]
    },
    {
      "cell_type": "code",
      "metadata": {
        "id": "mjbJLG8pIIO6",
        "colab_type": "code",
        "colab": {
          "base_uri": "https://localhost:8080/",
          "height": 206
        },
        "outputId": "88e9f75a-b60e-462a-b084-87dc56a5e820"
      },
      "source": [
        "percentage_over_25_compltd_high_school.head()"
      ],
      "execution_count": 9,
      "outputs": [
        {
          "output_type": "execute_result",
          "data": {
            "text/html": [
              "<div>\n",
              "<style scoped>\n",
              "    .dataframe tbody tr th:only-of-type {\n",
              "        vertical-align: middle;\n",
              "    }\n",
              "\n",
              "    .dataframe tbody tr th {\n",
              "        vertical-align: top;\n",
              "    }\n",
              "\n",
              "    .dataframe thead th {\n",
              "        text-align: right;\n",
              "    }\n",
              "</style>\n",
              "<table border=\"1\" class=\"dataframe\">\n",
              "  <thead>\n",
              "    <tr style=\"text-align: right;\">\n",
              "      <th></th>\n",
              "      <th>Geographic Area</th>\n",
              "      <th>City</th>\n",
              "      <th>percent_completed_hs</th>\n",
              "    </tr>\n",
              "  </thead>\n",
              "  <tbody>\n",
              "    <tr>\n",
              "      <th>0</th>\n",
              "      <td>AL</td>\n",
              "      <td>Abanda CDP</td>\n",
              "      <td>21.2</td>\n",
              "    </tr>\n",
              "    <tr>\n",
              "      <th>1</th>\n",
              "      <td>AL</td>\n",
              "      <td>Abbeville city</td>\n",
              "      <td>69.1</td>\n",
              "    </tr>\n",
              "    <tr>\n",
              "      <th>2</th>\n",
              "      <td>AL</td>\n",
              "      <td>Adamsville city</td>\n",
              "      <td>78.9</td>\n",
              "    </tr>\n",
              "    <tr>\n",
              "      <th>3</th>\n",
              "      <td>AL</td>\n",
              "      <td>Addison town</td>\n",
              "      <td>81.4</td>\n",
              "    </tr>\n",
              "    <tr>\n",
              "      <th>4</th>\n",
              "      <td>AL</td>\n",
              "      <td>Akron town</td>\n",
              "      <td>68.6</td>\n",
              "    </tr>\n",
              "  </tbody>\n",
              "</table>\n",
              "</div>"
            ],
            "text/plain": [
              "  Geographic Area             City percent_completed_hs\n",
              "0              AL       Abanda CDP                 21.2\n",
              "1              AL   Abbeville city                 69.1\n",
              "2              AL  Adamsville city                 78.9\n",
              "3              AL     Addison town                 81.4\n",
              "4              AL       Akron town                 68.6"
            ]
          },
          "metadata": {
            "tags": []
          },
          "execution_count": 9
        }
      ]
    },
    {
      "cell_type": "code",
      "metadata": {
        "id": "ClobnFNoInqi",
        "colab_type": "code",
        "colab": {}
      },
      "source": [
        "#High school graduation rate state wise\n",
        "percentage_over_25_compltd_high_school.percent_completed_hs.replace(['-'],0.0,inplace=True)#\n",
        "#percentage_over_25_compltd_high_school.percent_completed_hs.describe()\n",
        "percentage_over_25_compltd_high_school.percent_completed_hs = percentage_over_25_compltd_high_school.percent_completed_hs.astype(float)\n",
        "#percentage_over_25_compltd_high_school.percent_completed_hs.describe()\n",
        "area_list = list(percentage_over_25_compltd_high_school['Geographic Area'].unique())\n",
        "area_high_school = []\n",
        "for al in area_list:\n",
        "  cities_under_single_GA = percentage_over_25_compltd_high_school[percentage_over_25_compltd_high_school['Geographic Area'] == al]\n",
        "  area_high_school_rate = sum(cities_under_single_GA.percent_completed_hs) / len(cities_under_single_GA)\n",
        "  area_high_school.append(area_high_school_rate)  \n",
        "# Sorting data before visualising it \n",
        "data = pd.DataFrame({'area_list' : area_list, 'area_highschool_ratio':area_high_school }) # create a dictionary for area list and high school rate\n",
        "new_index = (data['area_highschool_ratio'].sort_values(ascending=True)).index.values\n",
        "sorted_data2 = data.reindex(new_index)\n",
        "#done with preprocesing, ready for next step"
      ],
      "execution_count": 0,
      "outputs": []
    },
    {
      "cell_type": "code",
      "metadata": {
        "id": "xulZNRdgPSDN",
        "colab_type": "code",
        "colab": {
          "base_uri": "https://localhost:8080/",
          "height": 646
        },
        "outputId": "50f6a5b2-723a-44af-866c-7d7540b63e21"
      },
      "source": [
        "plt.figure(figsize=(15,10))\n",
        "sns.barplot(x=sorted_data2.area_list, y= sorted_data2.area_highschool_ratio)\n",
        "plt.xticks(rotation = 90)\n",
        "plt.xlabel('States')\n",
        "plt.ylabel('High School Graduation Rate')\n",
        "plt.title(\"Percentage of high school completed by over 25 by state wise\")"
      ],
      "execution_count": 20,
      "outputs": [
        {
          "output_type": "execute_result",
          "data": {
            "text/plain": [
              "Text(0.5, 1.0, 'Percentage of high school completed by over 25 by state wise')"
            ]
          },
          "metadata": {
            "tags": []
          },
          "execution_count": 20
        },
        {
          "output_type": "display_data",
          "data": {
            "image/png": "[encoded data removed]",
            "text/plain": [
              "<Figure size 1080x720 with 1 Axes>"
            ]
          },
          "metadata": {
            "tags": [],
            "needs_background": "light"
          }
        }
      ]
    },
    {
      "cell_type": "markdown",
      "metadata": {
        "id": "n5mqjWVwUZuM",
        "colab_type": "text"
      },
      "source": [
        "Next visualisation is for race shared by each state."
      ]
    },
    {
      "cell_type": "code",
      "metadata": {
        "id": "iXOK8l5nUnQo",
        "colab_type": "code",
        "colab": {
          "base_uri": "https://localhost:8080/",
          "height": 206
        },
        "outputId": "68996ba6-b354-477f-ffc2-fac9badc9c6f"
      },
      "source": [
        "race_by_city.head()"
      ],
      "execution_count": 22,
      "outputs": [
        {
          "output_type": "execute_result",
          "data": {
            "text/html": [
              "<div>\n",
              "<style scoped>\n",
              "    .dataframe tbody tr th:only-of-type {\n",
              "        vertical-align: middle;\n",
              "    }\n",
              "\n",
              "    .dataframe tbody tr th {\n",
              "        vertical-align: top;\n",
              "    }\n",
              "\n",
              "    .dataframe thead th {\n",
              "        text-align: right;\n",
              "    }\n",
              "</style>\n",
              "<table border=\"1\" class=\"dataframe\">\n",
              "  <thead>\n",
              "    <tr style=\"text-align: right;\">\n",
              "      <th></th>\n",
              "      <th>Geographic area</th>\n",
              "      <th>City</th>\n",
              "      <th>share_white</th>\n",
              "      <th>share_black</th>\n",
              "      <th>share_native_american</th>\n",
              "      <th>share_asian</th>\n",
              "      <th>share_hispanic</th>\n",
              "    </tr>\n",
              "  </thead>\n",
              "  <tbody>\n",
              "    <tr>\n",
              "      <th>0</th>\n",
              "      <td>AL</td>\n",
              "      <td>Abanda CDP</td>\n",
              "      <td>67.2</td>\n",
              "      <td>30.2</td>\n",
              "      <td>0</td>\n",
              "      <td>0</td>\n",
              "      <td>1.6</td>\n",
              "    </tr>\n",
              "    <tr>\n",
              "      <th>1</th>\n",
              "      <td>AL</td>\n",
              "      <td>Abbeville city</td>\n",
              "      <td>54.4</td>\n",
              "      <td>41.4</td>\n",
              "      <td>0.1</td>\n",
              "      <td>1</td>\n",
              "      <td>3.1</td>\n",
              "    </tr>\n",
              "    <tr>\n",
              "      <th>2</th>\n",
              "      <td>AL</td>\n",
              "      <td>Adamsville city</td>\n",
              "      <td>52.3</td>\n",
              "      <td>44.9</td>\n",
              "      <td>0.5</td>\n",
              "      <td>0.3</td>\n",
              "      <td>2.3</td>\n",
              "    </tr>\n",
              "    <tr>\n",
              "      <th>3</th>\n",
              "      <td>AL</td>\n",
              "      <td>Addison town</td>\n",
              "      <td>99.1</td>\n",
              "      <td>0.1</td>\n",
              "      <td>0</td>\n",
              "      <td>0.1</td>\n",
              "      <td>0.4</td>\n",
              "    </tr>\n",
              "    <tr>\n",
              "      <th>4</th>\n",
              "      <td>AL</td>\n",
              "      <td>Akron town</td>\n",
              "      <td>13.2</td>\n",
              "      <td>86.5</td>\n",
              "      <td>0</td>\n",
              "      <td>0</td>\n",
              "      <td>0.3</td>\n",
              "    </tr>\n",
              "  </tbody>\n",
              "</table>\n",
              "</div>"
            ],
            "text/plain": [
              "  Geographic area             City  ... share_asian share_hispanic\n",
              "0              AL       Abanda CDP  ...           0            1.6\n",
              "1              AL   Abbeville city  ...           1            3.1\n",
              "2              AL  Adamsville city  ...         0.3            2.3\n",
              "3              AL     Addison town  ...         0.1            0.4\n",
              "4              AL       Akron town  ...           0            0.3\n",
              "\n",
              "[5 rows x 7 columns]"
            ]
          },
          "metadata": {
            "tags": []
          },
          "execution_count": 22
        }
      ]
    },
    {
      "cell_type": "code",
      "metadata": {
        "id": "SGcljslCVBKq",
        "colab_type": "code",
        "colab": {
          "base_uri": "https://localhost:8080/",
          "height": 276
        },
        "outputId": "2acad246-182c-43e9-b8e6-e10dd62e9329"
      },
      "source": [
        "race_by_city.info()"
      ],
      "execution_count": 23,
      "outputs": [
        {
          "output_type": "stream",
          "text": [
            "<class 'pandas.core.frame.DataFrame'>\n",
            "RangeIndex: 29268 entries, 0 to 29267\n",
            "Data columns (total 7 columns):\n",
            " #   Column                 Non-Null Count  Dtype \n",
            "---  ------                 --------------  ----- \n",
            " 0   Geographic area        29268 non-null  object\n",
            " 1   City                   29268 non-null  object\n",
            " 2   share_white            29268 non-null  object\n",
            " 3   share_black            29268 non-null  object\n",
            " 4   share_native_american  29268 non-null  object\n",
            " 5   share_asian            29268 non-null  object\n",
            " 6   share_hispanic         29268 non-null  object\n",
            "dtypes: object(7)\n",
            "memory usage: 1.6+ MB\n"
          ],
          "name": "stdout"
        }
      ]
    },
    {
      "cell_type": "code",
      "metadata": {
        "id": "SQSMJO5FVWrH",
        "colab_type": "code",
        "colab": {}
      },
      "source": [
        "# Percentage of state's population categorised by race\n",
        "race_by_city.replace(['-'],0.0,inplace=True)\n",
        "race_by_city.replace(['(X)'],0.0,inplace=True)\n",
        "race_by_city.loc[:,['share_white','share_black','share_native_american','share_asian','share_hispanic']] = race_by_city.loc[:,['share_white','share_black','share_native_american','share_asian','share_hispanic']].astype(float)\n",
        "area_list = list(race_by_city['Geographic area'].unique())\n",
        "share_white = []\n",
        "share_black = []\n",
        "share_native_american = []\n",
        "share_asian = []\n",
        "share_hispanic = []\n",
        "for al in area_list:\n",
        "  x = race_by_city[race_by_city['Geographic area'] == al]\n",
        "  share_white.append(sum(x.share_white)/len(x))\n",
        "  share_black.append(sum(x.share_black)/len(x))\n",
        "  share_native_american.append(sum(x.share_native_american)/len(x))\n",
        "  share_asian.append(sum(x.share_asian)/len(x))\n",
        "  share_hispanic.append(sum(x.share_hispanic)/len(x))\n",
        "#Pre-processing for visualisation ends here  "
      ],
      "execution_count": 0,
      "outputs": []
    },
    {
      "cell_type": "code",
      "metadata": {
        "id": "Yhxzn7YjaZ6X",
        "colab_type": "code",
        "colab": {
          "base_uri": "https://localhost:8080/",
          "height": 948
        },
        "outputId": "88510a81-722b-4065-ecc6-55a518869ebd"
      },
      "source": [
        "f,ax = plt.subplots(figsize = (9,15))\n",
        "sns.barplot(x=share_white, y=area_list,color = 'blue', alpha = 0.5, label = 'White')\n",
        "sns.barplot(x=share_black, y=area_list,color = 'black', alpha = 0.5, label = 'Black')\n",
        "sns.barplot(x=share_asian, y=area_list,color = 'red', alpha = 0.5, label = 'Asian')\n",
        "sns.barplot(x=share_hispanic, y=area_list,color = 'yellow', alpha = 0.5, label = 'Hispanic')\n",
        "sns.barplot(x=share_native_american, y=area_list,color = 'green', alpha = 0.5, label = 'Native American')\n",
        "ax.legend(loc='lower right',frameon = True)\n",
        "ax.set(xlabel='Percentage of Races', ylabel = 'State', title = 'Sates population share by Races')"
      ],
      "execution_count": 30,
      "outputs": [
        {
          "output_type": "execute_result",
          "data": {
            "text/plain": [
              "[Text(0, 0.5, 'State'),\n",
              " Text(0.5, 0, 'Percentage of Races'),\n",
              " Text(0.5, 1.0, 'Sates population share by Races')]"
            ]
          },
          "metadata": {
            "tags": []
          },
          "execution_count": 30
        },
        {
          "output_type": "display_data",
          "data": {
            "image/png": "[encoded data removed]",
            "text/plain": [
              "<Figure size 648x1080 with 1 Axes>"
            ]
          },
          "metadata": {
            "tags": [],
            "needs_background": "light"
          }
        }
      ]
    }
  ]
}