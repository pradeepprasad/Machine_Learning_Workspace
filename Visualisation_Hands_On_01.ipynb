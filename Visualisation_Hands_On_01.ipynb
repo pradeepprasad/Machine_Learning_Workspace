{
  "nbformat": 4,
  "nbformat_minor": 0,
  "metadata": {
    "kernelspec": {
      "language": "python",
      "display_name": "Python 3",
      "name": "python3"
    },
    "language_info": {
      "pygments_lexer": "ipython3",
      "nbconvert_exporter": "python",
      "version": "3.6.4",
      "file_extension": ".py",
      "codemirror_mode": {
        "name": "ipython",
        "version": 3
      },
      "name": "python",
      "mimetype": "text/x-python"
    },
    "colab": {
      "name": "Visualisation_Hands_On_01.ipynb",
      "provenance": [],
      "collapsed_sections": [],
      "toc_visible": true,
      "include_colab_link": true
    }
  },
  "cells": [
    {
      "cell_type": "markdown",
      "metadata": {
        "id": "view-in-github",
        "colab_type": "text"
      },
      "source": [
        "<a href=\"https://colab.research.google.com/github/pradeepprasad/Machine_Learning_Workspace/blob/master/Visualisation_Hands_On_01.ipynb\" target=\"_parent\"><img src=\"https://colab.research.google.com/assets/colab-badge.svg\" alt=\"Open In Colab\"/></a>"
      ]
    },
    {
      "cell_type": "code",
      "metadata": {
        "id": "jNuZ21I_GqRM",
        "colab_type": "code",
        "colab": {}
      },
      "source": [
        "from google.colab import drive\n",
        "drive.mount('/content/drive')"
      ],
      "execution_count": 0,
      "outputs": []
    },
    {
      "cell_type": "code",
      "metadata": {
        "_uuid": "8f2839f25d086af736a60e9eeb907d3b93b6e0e5",
        "_cell_guid": "b1076dfc-b9ad-4769-8c92-a6c4dae69d19",
        "trusted": true,
        "id": "CgCcBsOkcO98",
        "colab_type": "code",
        "colab": {}
      },
      "source": [
        "# This Python 3 environment comes with many helpful analytics libraries installed\n",
        "# It is defined by the kaggle/python docker image: https://github.com/kaggle/docker-python\n",
        "# For example, here's several helpful packages to load in \n",
        "import numpy as np # linear algebra\n",
        "import pandas as pd # data processing, CSV file I/O (e.g. pd.read_csv)\n",
        "import seaborn as sns # get seaborn libraries\n",
        "import matplotlib.pyplot as plt\n",
        "#import matplotlib as plt\n",
        "#from matplotlib import *\n",
        "from collections import Counter\n",
        "%matplotlib inline\n",
        "# Input data files are available in the \"../input/\" directory.\n",
        "# For example, running this (by clicking run or pressing Shift+Enter) will list all files under the input directory\n",
        "from subprocess import check_output\n",
        "print(check_output([\"ls\",\"/content/drive/My Drive/data/fatal-police-shootings-in-the-us\"]).decode(\"utf8\"))\n",
        "# Any results you write to the current directory are saved as output."
      ],
      "execution_count": 0,
      "outputs": []
    },
    {
      "cell_type": "code",
      "metadata": {
        "_uuid": "d629ff2d2480ee46fbb7e2d37f6b5fab8052498a",
        "_cell_guid": "79c7e3d0-c299-4dcb-8224-4455121ee9b0",
        "trusted": true,
        "id": "s2ApPbx9cO-O",
        "colab_type": "code",
        "colab": {}
      },
      "source": [
        "median_house_hold_income = pd.read_csv(\"/content/drive/My Drive/data/fatal-police-shootings-in-the-us/MedianHouseholdIncome2015.csv\",encoding=\"unicode_escape\")\n",
        "median_house_hold_income = pd.read_csv(\"/content/drive/My Drive/data/fatal-police-shootings-in-the-us/MedianHouseholdIncome2015.csv\",encoding=\"windows-1252\")\n",
        "#median_house_hold_income_clean = pd.read_csv(\"../input/median-householdincome2015-clean/MedianHouseholdIncome2015_clean.csv\",encoding=\"windows-1252\")\n",
        "percentage_below_poverty_line = pd.read_csv(\"/content/drive/My Drive/data/fatal-police-shootings-in-the-us/PercentagePeopleBelowPovertyLevel.csv\",encoding=\"windows-1252\")\n",
        "percentage_over_25_compltd_high_school = pd.read_csv(\"/content/drive/My Drive/data/fatal-police-shootings-in-the-us/PercentOver25CompletedHighSchool.csv\",encoding=\"windows-1252\")\n",
        "police_killing = pd.read_csv(\"/content/drive/My Drive/data/fatal-police-shootings-in-the-us/PoliceKillingsUS.csv\",encoding=\"windows-1252\")\n",
        "race_by_city = pd.read_csv(\"/content/drive/My Drive/data/fatal-police-shootings-in-the-us/ShareRaceByCity.csv\",encoding=\"windows-1252\")"
      ],
      "execution_count": 0,
      "outputs": []
    },
    {
      "cell_type": "code",
      "metadata": {
        "trusted": true,
        "id": "wATfq2K-cO-a",
        "colab_type": "code",
        "colab": {}
      },
      "source": [
        "median_house_hold_income.head()"
      ],
      "execution_count": 0,
      "outputs": []
    },
    {
      "cell_type": "code",
      "metadata": {
        "trusted": true,
        "id": "FIzqriXYcO-i",
        "colab_type": "code",
        "colab": {}
      },
      "source": [
        "median_house_hold_income.tail()"
      ],
      "execution_count": 0,
      "outputs": []
    },
    {
      "cell_type": "code",
      "metadata": {
        "trusted": true,
        "id": "9MtJZemzcO-q",
        "colab_type": "code",
        "colab": {}
      },
      "source": [
        "race_by_city.head()"
      ],
      "execution_count": 0,
      "outputs": []
    },
    {
      "cell_type": "code",
      "metadata": {
        "trusted": true,
        "id": "WFT05mdEcO-y",
        "colab_type": "code",
        "colab": {}
      },
      "source": [
        "race_by_city.describe()"
      ],
      "execution_count": 0,
      "outputs": []
    },
    {
      "cell_type": "code",
      "metadata": {
        "trusted": true,
        "id": "EqGWpgJ_cO-7",
        "colab_type": "code",
        "colab": {}
      },
      "source": [
        "percentage_below_poverty_line['Geographic Area'].unique()"
      ],
      "execution_count": 0,
      "outputs": []
    },
    {
      "cell_type": "code",
      "metadata": {
        "trusted": true,
        "id": "xs2aNjk4cO_B",
        "colab_type": "code",
        "colab": {}
      },
      "source": [
        "percentage_below_poverty_line['Geographic Area'].describe()"
      ],
      "execution_count": 0,
      "outputs": []
    },
    {
      "cell_type": "markdown",
      "metadata": {
        "id": "FP0Jt8HmcO_J",
        "colab_type": "text"
      },
      "source": [
        "Lets draw bar chart with available data."
      ]
    },
    {
      "cell_type": "code",
      "metadata": {
        "trusted": true,
        "id": "lHAX5p-BcO_L",
        "colab_type": "code",
        "outputId": "6001308a-8a76-41b1-e75b-f58a6b9d62f1",
        "colab": {
          "base_uri": "https://localhost:8080/",
          "height": 648
        }
      },
      "source": [
        "percentage_below_poverty_line.poverty_rate.replace(['-'],0.0,inplace=True)\n",
        "percentage_below_poverty_line.poverty_rate = percentage_below_poverty_line.poverty_rate.astype(float)\n",
        "area_list = list(percentage_below_poverty_line['Geographic Area'].unique())\n",
        "area_poverty_ratio = []\n",
        "\n",
        "for i in area_list:\n",
        "    x = percentage_below_poverty_line[percentage_below_poverty_line['Geographic Area'] == i ]\n",
        "    area_poverty_rate = sum(x.poverty_rate)/len(x)\n",
        "    area_poverty_ratio.append(area_poverty_rate) \n",
        "    \n",
        "dataFM_areaList_areaPovertyratio = pd.DataFrame({'area_list': area_list,'area_poverty_ratio':area_poverty_ratio})\n",
        "new_index = (dataFM_areaList_areaPovertyratio['area_poverty_ratio'].sort_values(ascending=False)).index.values\n",
        "dataFM_areaList_areaPovertyratio_sorted = dataFM_areaList_areaPovertyratio.reindex(new_index)\n",
        "\n",
        "#visualisation\n",
        "\n",
        "plt.figure(figsize=(15,10))\n",
        "sns.barplot(x=dataFM_areaList_areaPovertyratio_sorted['area_list'], y=dataFM_areaList_areaPovertyratio_sorted['area_poverty_ratio'])\n",
        "plt.xticks(rotation= 45)\n",
        "plt.xlabel('States')\n",
        "plt.ylabel('Poverty Rate')\n",
        "plt.title('Poverty Rate Given States')\n"
      ],
      "execution_count": 5,
      "outputs": [
        {
          "output_type": "execute_result",
          "data": {
            "text/plain": [
              "Text(0.5, 1.0, 'Poverty Rate Given States')"
            ]
          },
          "metadata": {
            "tags": []
          },
          "execution_count": 5
        },
        {
          "output_type": "display_data",
          "data": {
            "image/png": "[encoded data removed]",
            "text/plain": [
              "<Figure size 1080x720 with 1 Axes>"
            ]
          },
          "metadata": {
            "tags": [],
            "needs_background": "light"
          }
        }
      ]
    },
    {
      "cell_type": "markdown",
      "metadata": {
        "id": "I9AuN6EIcO_V",
        "colab_type": "text"
      },
      "source": [
        "Lets create BarChart for house hold income similiar to poverty rate for given states."
      ]
    },
    {
      "cell_type": "code",
      "metadata": {
        "trusted": true,
        "id": "69fclM95cO_X",
        "colab_type": "code",
        "colab": {}
      },
      "source": [
        "median_house_hold_income.describe()"
      ],
      "execution_count": 0,
      "outputs": []
    },
    {
      "cell_type": "code",
      "metadata": {
        "trusted": true,
        "id": "299IsliqcO_e",
        "colab_type": "code",
        "colab": {}
      },
      "source": [
        "median_house_hold_income[\"Median Income\"].head()"
      ],
      "execution_count": 0,
      "outputs": []
    },
    {
      "cell_type": "code",
      "metadata": {
        "trusted": true,
        "id": "yxcuB7bCcO_t",
        "colab_type": "code",
        "colab": {}
      },
      "source": [
        "median_house_hold_income.count()"
      ],
      "execution_count": 0,
      "outputs": []
    },
    {
      "cell_type": "code",
      "metadata": {
        "trusted": true,
        "id": "thDh9WxRcO_0",
        "colab_type": "code",
        "colab": {}
      },
      "source": [
        "median_house_hold_income[\"Median Income\"].str.isnumeric()"
      ],
      "execution_count": 0,
      "outputs": []
    },
    {
      "cell_type": "code",
      "metadata": {
        "trusted": true,
        "id": "9SNr1lMKcO_9",
        "colab_type": "code",
        "colab": {}
      },
      "source": [
        "iFlowStatus = median_house_hold_income[median_house_hold_income['Median Income'].str.contains('iFlow', na=False)]['Status']\n",
        "print(iFlowStatus)"
      ],
      "execution_count": 0,
      "outputs": []
    },
    {
      "cell_type": "markdown",
      "metadata": {
        "id": "xbTjD83ZcPAD",
        "colab_type": "text"
      },
      "source": [
        "# median_house_hold_income_clean contains some values like (X) which I am not able to clean. In excel, because data has more than 10,000 unique value, not able to find by filter feature of data option in excel sheet. Saving it to solve it later."
      ]
    },
    {
      "cell_type": "code",
      "metadata": {
        "trusted": true,
        "id": "OteiI-rQcPAF",
        "colab_type": "code",
        "colab": {}
      },
      "source": [
        "#median_house_hold_income['Median Income'] = median_house_hold_income['Median Income'].str.replace('-', '0').str.replace('(X)', '0').str.replace('(0)', '0').str.replace('2,500-', '0')\n",
        "#median_house_hold_income['Median Income'] = median_house_hold_income['Median Income'].dropna()\n",
        "median_house_hold_income_clean['Median Income'].replace(['-'],0.0,inplace=True)\n",
        "#is_numeric = median_house_hold_income[\"Median Income\"].str.isnumeric()\n",
        "#median_house_hold_income['Median Income'] = median_house_hold_income['Median Income'].drop(median_house_hold_income['Median Income'] =='(0)')\n",
        "#median_house_hold_income[\"Median Income\"].replace(['(X)'],0.0,inplace=True)\n",
        "#median_house_hold_income[\"Median Income\"].replace([''],0.0,inplace=True)\n",
        "#median_house_hold_income['Median Income'] = median_house_hold_income['Median Income'].str.replace('-', '0').str.replace('(X)', '0').str.replace('(0)', '0').str.replace('2,500-', '0')\n",
        "#median_house_hold_income['Median Income'] = median_house_hold_income['Median Income'].replace(to_replace='None', value=np.nan).dropna()\n",
        "#median_house_hold_income = median_house_hold_income[is_numeric] \n",
        "median_house_hold_income_clean['Median Income'] = median_house_hold_income_clean['Median Income'].astype(float)\n",
        "area_list = list(median_house_hold_income_clean['Geographic Area'].unique())\n",
        "area_median_ratio = []\n",
        "\n",
        "for i in area_list:\n",
        "    x = median_house_hold_income_clean[median_house_hold_income_clean['Geographic Area'] == i ]\n",
        "    area_median_income = sum(x['Median Income'])/len(x)\n",
        "    area_median_ratio.append(area_median_income) \n",
        "    \n",
        "dataFM_areaList_areaMedianratio = pd.DataFrame({'area_list': area_list,'area_median_ratio':area_median_ratio})\n",
        "new_index = (dataFM_areaList_areaMedianratio['area_median_ratio'].sort_values(ascending=False)).index.values\n",
        "dataFM_areaList_areaMedianratio_sorted = dataFM_areaList_areaMedianratio.reindex(new_index)\n",
        "\n",
        "#visualisation\n",
        "\n",
        "plt.figure(figsize=(15,10))\n",
        "sns.barplot(x=dataFM_areaList_areaMedianratio_sorted['area_list'], y=dataFM_areaList_areaMedianratio_sorted['area_median_ratio'])\n",
        "plt.xticks(rotation= 45)\n",
        "plt.xlabel('States')\n",
        "plt.ylabel('Median Income Rate')\n",
        "plt.title('Income Rate Given States')"
      ],
      "execution_count": 0,
      "outputs": []
    },
    {
      "cell_type": "markdown",
      "metadata": {
        "id": "PaB-Y2TlcPAQ",
        "colab_type": "text"
      },
      "source": [
        "Move for next plot figure"
      ]
    },
    {
      "cell_type": "code",
      "metadata": {
        "trusted": true,
        "id": "f6QLCwSncPAT",
        "colab_type": "code",
        "colab": {}
      },
      "source": [
        "police_killing.head()"
      ],
      "execution_count": 0,
      "outputs": []
    },
    {
      "cell_type": "code",
      "metadata": {
        "trusted": true,
        "id": "Ul1wbJbRcPAZ",
        "colab_type": "code",
        "colab": {}
      },
      "source": [
        "separate_name = police_killing.name[police_killing.name != 'TK TK'].str.split()\n",
        "separate_name.head()"
      ],
      "execution_count": 0,
      "outputs": []
    },
    {
      "cell_type": "code",
      "metadata": {
        "trusted": true,
        "id": "FvO_l-dhcPAi",
        "colab_type": "code",
        "colab": {}
      },
      "source": [
        "separate_name_TK = police_killing.name[police_killing.name == 'TK TK'].str.split()\n",
        "separate_name_TK.head()"
      ],
      "execution_count": 0,
      "outputs": []
    },
    {
      "cell_type": "code",
      "metadata": {
        "trusted": true,
        "id": "HZ0oOhWVcPAo",
        "colab_type": "code",
        "colab": {}
      },
      "source": [
        "first_name,last_name = zip(*separate_name)\n",
        "first_name\n",
        "#last_name"
      ],
      "execution_count": 0,
      "outputs": []
    },
    {
      "cell_type": "code",
      "metadata": {
        "trusted": true,
        "id": "PTeGKqXTcPAt",
        "colab_type": "code",
        "colab": {}
      },
      "source": [
        "last_name"
      ],
      "execution_count": 0,
      "outputs": []
    },
    {
      "cell_type": "code",
      "metadata": {
        "trusted": true,
        "id": "wy1ksq6VcPAz",
        "colab_type": "code",
        "colab": {}
      },
      "source": [
        "name_list = first_name + last_name\n",
        "name_list"
      ],
      "execution_count": 0,
      "outputs": []
    },
    {
      "cell_type": "code",
      "metadata": {
        "trusted": true,
        "id": "QbPNhZz9cPA5",
        "colab_type": "code",
        "colab": {}
      },
      "source": [
        "name_count = Counter(name_list)\n",
        "most_common_names = name_count.most_common(15)\n",
        "most_common_names"
      ],
      "execution_count": 0,
      "outputs": []
    },
    {
      "cell_type": "code",
      "metadata": {
        "trusted": true,
        "id": "9nild8L7cPA9",
        "colab_type": "code",
        "colab": {}
      },
      "source": [
        "x,y = zip(*most_common_names)\n",
        "x,y=list(x),list(y)\n",
        "x"
      ],
      "execution_count": 0,
      "outputs": []
    },
    {
      "cell_type": "code",
      "metadata": {
        "trusted": true,
        "id": "LYQ9pbYYcPBF",
        "colab_type": "code",
        "colab": {}
      },
      "source": [
        "y"
      ],
      "execution_count": 0,
      "outputs": []
    },
    {
      "cell_type": "code",
      "metadata": {
        "trusted": true,
        "id": "DdZjwZTdcPBJ",
        "colab_type": "code",
        "colab": {}
      },
      "source": [
        "#now plot figure based on common names and count available to us\n",
        "plt.figure(figsize=(15,10))\n",
        "ax = sns.barplot(x=x, y=y, palette = sns.cubehelix_palette(len(x),reverse=True))\n",
        "plt.xlabel('Name or Surname of people killed')\n",
        "plt.ylabel('Frequency')\n",
        "plt.title('Most common 15 Names or SurNames of killed people')"
      ],
      "execution_count": 0,
      "outputs": []
    },
    {
      "cell_type": "markdown",
      "metadata": {
        "id": "cQSFQoA-H-Zz",
        "colab_type": "text"
      },
      "source": [
        "Now lets move to another data for plotting another visualisation using seaboarn."
      ]
    },
    {
      "cell_type": "code",
      "metadata": {
        "id": "mjbJLG8pIIO6",
        "colab_type": "code",
        "colab": {}
      },
      "source": [
        "percentage_over_25_compltd_high_school.head()"
      ],
      "execution_count": 0,
      "outputs": []
    },
    {
      "cell_type": "code",
      "metadata": {
        "id": "ClobnFNoInqi",
        "colab_type": "code",
        "colab": {}
      },
      "source": [
        "#High school graduation rate state wise\n",
        "percentage_over_25_compltd_high_school.percent_completed_hs.replace(['-'],0.0,inplace=True)#\n",
        "#percentage_over_25_compltd_high_school.percent_completed_hs.describe()\n",
        "percentage_over_25_compltd_high_school.percent_completed_hs = percentage_over_25_compltd_high_school.percent_completed_hs.astype(float)\n",
        "#percentage_over_25_compltd_high_school.percent_completed_hs.describe()\n",
        "area_list = list(percentage_over_25_compltd_high_school['Geographic Area'].unique())\n",
        "area_high_school = []\n",
        "for al in area_list:\n",
        "  cities_under_single_GA = percentage_over_25_compltd_high_school[percentage_over_25_compltd_high_school['Geographic Area'] == al]\n",
        "  area_high_school_rate = sum(cities_under_single_GA.percent_completed_hs) / len(cities_under_single_GA)\n",
        "  area_high_school.append(area_high_school_rate)  \n",
        "# Sorting data before visualising it \n",
        "data = pd.DataFrame({'area_list' : area_list, 'area_highschool_ratio':area_high_school }) # create a dictionary for area list and high school rate\n",
        "new_index = (data['area_highschool_ratio'].sort_values(ascending=True)).index.values\n",
        "sorted_data2 = data.reindex(new_index)\n",
        "#done with preprocesing, ready for next step"
      ],
      "execution_count": 0,
      "outputs": []
    },
    {
      "cell_type": "code",
      "metadata": {
        "id": "xulZNRdgPSDN",
        "colab_type": "code",
        "outputId": "d2e73fbf-d389-48f3-efc4-97cd084ba4d2",
        "colab": {
          "base_uri": "https://localhost:8080/",
          "height": 646
        }
      },
      "source": [
        "plt.figure(figsize=(15,10))\n",
        "sns.barplot(x=sorted_data2.area_list, y= sorted_data2.area_highschool_ratio)\n",
        "plt.xticks(rotation = 90)\n",
        "plt.xlabel('States')\n",
        "plt.ylabel('High School Graduation Rate')\n",
        "plt.title(\"Percentage of high school completed by over 25 by state wise\")"
      ],
      "execution_count": 7,
      "outputs": [
        {
          "output_type": "execute_result",
          "data": {
            "text/plain": [
              "Text(0.5, 1.0, 'Percentage of high school completed by over 25 by state wise')"
            ]
          },
          "metadata": {
            "tags": []
          },
          "execution_count": 7
        },
        {
          "output_type": "display_data",
          "data": {
            "image/png": "[encoded data removed]",
            "text/plain": [
              "<Figure size 1080x720 with 1 Axes>"
            ]
          },
          "metadata": {
            "tags": [],
            "needs_background": "light"
          }
        }
      ]
    },
    {
      "cell_type": "markdown",
      "metadata": {
        "id": "n5mqjWVwUZuM",
        "colab_type": "text"
      },
      "source": [
        "Next visualisation is for race shared by each state."
      ]
    },
    {
      "cell_type": "code",
      "metadata": {
        "id": "iXOK8l5nUnQo",
        "colab_type": "code",
        "colab": {}
      },
      "source": [
        "race_by_city.head()"
      ],
      "execution_count": 0,
      "outputs": []
    },
    {
      "cell_type": "code",
      "metadata": {
        "id": "SGcljslCVBKq",
        "colab_type": "code",
        "colab": {}
      },
      "source": [
        "race_by_city.info()"
      ],
      "execution_count": 0,
      "outputs": []
    },
    {
      "cell_type": "code",
      "metadata": {
        "id": "SQSMJO5FVWrH",
        "colab_type": "code",
        "colab": {}
      },
      "source": [
        "# Percentage of state's population categorised by race\n",
        "race_by_city.replace(['-'],0.0,inplace=True)\n",
        "race_by_city.replace(['(X)'],0.0,inplace=True)\n",
        "race_by_city.loc[:,['share_white','share_black','share_native_american','share_asian','share_hispanic']] = race_by_city.loc[:,['share_white','share_black','share_native_american','share_asian','share_hispanic']].astype(float)\n",
        "area_list = list(race_by_city['Geographic area'].unique())\n",
        "share_white = []\n",
        "share_black = []\n",
        "share_native_american = []\n",
        "share_asian = []\n",
        "share_hispanic = []\n",
        "for al in area_list:\n",
        "  x = race_by_city[race_by_city['Geographic area'] == al]\n",
        "  share_white.append(sum(x.share_white)/len(x))\n",
        "  share_black.append(sum(x.share_black)/len(x))\n",
        "  share_native_american.append(sum(x.share_native_american)/len(x))\n",
        "  share_asian.append(sum(x.share_asian)/len(x))\n",
        "  share_hispanic.append(sum(x.share_hispanic)/len(x))\n",
        "#Pre-processing for visualisation ends here  "
      ],
      "execution_count": 0,
      "outputs": []
    },
    {
      "cell_type": "code",
      "metadata": {
        "id": "Yhxzn7YjaZ6X",
        "colab_type": "code",
        "colab": {}
      },
      "source": [
        "f,ax = plt.subplots(figsize = (9,15))\n",
        "sns.barplot(x=share_white, y=area_list,color = 'blue', alpha = 0.5, label = 'White')\n",
        "sns.barplot(x=share_black, y=area_list,color = 'black', alpha = 0.5, label = 'Black')\n",
        "sns.barplot(x=share_asian, y=area_list,color = 'red', alpha = 0.5, label = 'Asian')\n",
        "sns.barplot(x=share_hispanic, y=area_list,color = 'yellow', alpha = 0.5, label = 'Hispanic')\n",
        "sns.barplot(x=share_native_american, y=area_list,color = 'green', alpha = 0.5, label = 'Native American')\n",
        "ax.legend(loc='upper right',frameon = True)\n",
        "ax.set(xlabel='Percentage of Races', ylabel = 'State', title = 'Sates population share by Races')"
      ],
      "execution_count": 0,
      "outputs": []
    },
    {
      "cell_type": "markdown",
      "metadata": {
        "id": "gM_J7bIMhlgK",
        "colab_type": "text"
      },
      "source": [
        "# Visualise another diagram showing both poverty ratio and education level."
      ]
    },
    {
      "cell_type": "code",
      "metadata": {
        "id": "RfuaN1TJh8Cu",
        "colab_type": "code",
        "outputId": "a8b2f55e-e274-4228-a919-6f47268f361b",
        "colab": {
          "base_uri": "https://localhost:8080/",
          "height": 206
        }
      },
      "source": [
        "dataFM_areaList_areaPovertyratio_sorted.area_poverty_ratio = dataFM_areaList_areaPovertyratio_sorted.area_poverty_ratio / max(dataFM_areaList_areaPovertyratio_sorted.area_poverty_ratio)\n",
        "sorted_data2.area_highschool_ratio = sorted_data2.area_highschool_ratio / max(sorted_data2.area_highschool_ratio)\n",
        "data = pd.concat([dataFM_areaList_areaPovertyratio_sorted, sorted_data2.area_highschool_ratio],axis=1)\n",
        "data.sort_values('area_poverty_ratio',inplace=True)\n",
        "data.head()\n",
        "#Data is ready for plotting"
      ],
      "execution_count": 8,
      "outputs": [
        {
          "output_type": "execute_result",
          "data": {
            "text/html": [
              "<div>\n",
              "<style scoped>\n",
              "    .dataframe tbody tr th:only-of-type {\n",
              "        vertical-align: middle;\n",
              "    }\n",
              "\n",
              "    .dataframe tbody tr th {\n",
              "        vertical-align: top;\n",
              "    }\n",
              "\n",
              "    .dataframe thead th {\n",
              "        text-align: right;\n",
              "    }\n",
              "</style>\n",
              "<table border=\"1\" class=\"dataframe\">\n",
              "  <thead>\n",
              "    <tr style=\"text-align: right;\">\n",
              "      <th></th>\n",
              "      <th>area_list</th>\n",
              "      <th>area_poverty_ratio</th>\n",
              "      <th>area_highschool_ratio</th>\n",
              "    </tr>\n",
              "  </thead>\n",
              "  <tbody>\n",
              "    <tr>\n",
              "      <th>30</th>\n",
              "      <td>NJ</td>\n",
              "      <td>0.303558</td>\n",
              "      <td>0.983615</td>\n",
              "    </tr>\n",
              "    <tr>\n",
              "      <th>50</th>\n",
              "      <td>WY</td>\n",
              "      <td>0.337139</td>\n",
              "      <td>0.912479</td>\n",
              "    </tr>\n",
              "    <tr>\n",
              "      <th>6</th>\n",
              "      <td>CT</td>\n",
              "      <td>0.339883</td>\n",
              "      <td>0.995254</td>\n",
              "    </tr>\n",
              "    <tr>\n",
              "      <th>21</th>\n",
              "      <td>MA</td>\n",
              "      <td>0.355090</td>\n",
              "      <td>1.000000</td>\n",
              "    </tr>\n",
              "    <tr>\n",
              "      <th>20</th>\n",
              "      <td>MD</td>\n",
              "      <td>0.382097</td>\n",
              "      <td>0.957107</td>\n",
              "    </tr>\n",
              "  </tbody>\n",
              "</table>\n",
              "</div>"
            ],
            "text/plain": [
              "   area_list  area_poverty_ratio  area_highschool_ratio\n",
              "30        NJ            0.303558               0.983615\n",
              "50        WY            0.337139               0.912479\n",
              "6         CT            0.339883               0.995254\n",
              "21        MA            0.355090               1.000000\n",
              "20        MD            0.382097               0.957107"
            ]
          },
          "metadata": {
            "tags": []
          },
          "execution_count": 8
        }
      ]
    },
    {
      "cell_type": "code",
      "metadata": {
        "id": "zsRcwBv0mntt",
        "colab_type": "code",
        "outputId": "0942c49e-2eaa-4b20-a2dc-6c5d57d3f94c",
        "colab": {
          "base_uri": "https://localhost:8080/",
          "height": 592
        }
      },
      "source": [
        "#let's plot point plot\n",
        "f,ax1 = plt.subplots(figsize=(20,10))\n",
        "sns.pointplot(x='area_list', y='area_poverty_ratio',data=data,color='orange',alpha=0.8)\n",
        "sns.pointplot(x='area_list', y='area_highschool_ratio',data=data,color='blue',alpha=0.8)\n",
        "plt.text(35,0.6,'High School Graduation Ratio',color='blue',fontsize=17,style='italic')\n",
        "plt.text(35,0.55,'Area Poverty Ratio',color='orange',fontsize=17,style='italic')\n",
        "plt.xlabel('States',fontsize = 15, color='green')\n",
        "plt.ylabel('Values',fontsize = 15, color='red')\n",
        "plt.title('High School Graduate VS Poverty Ratio Statewise',fontsize = 20, color='black')\n",
        "plt.grid()"
      ],
      "execution_count": 10,
      "outputs": [
        {
          "output_type": "display_data",
          "data": {
            "image/png": "[encoded data removed]",
            "text/plain": [
              "<Figure size 1440x720 with 1 Axes>"
            ]
          },
          "metadata": {
            "tags": [],
            "needs_background": "light"
          }
        }
      ]
    },
    {
      "cell_type": "code",
      "metadata": {
        "id": "GqIfbC5BkyL8",
        "colab_type": "code",
        "outputId": "1e17c117-8d4d-4d5c-8611-ab79b0aacc2a",
        "colab": {
          "base_uri": "https://localhost:8080/",
          "height": 206
        }
      },
      "source": [
        "dataFM_areaList_areaPovertyratio_sorted.head()"
      ],
      "execution_count": 11,
      "outputs": [
        {
          "output_type": "execute_result",
          "data": {
            "text/html": [
              "<div>\n",
              "<style scoped>\n",
              "    .dataframe tbody tr th:only-of-type {\n",
              "        vertical-align: middle;\n",
              "    }\n",
              "\n",
              "    .dataframe tbody tr th {\n",
              "        vertical-align: top;\n",
              "    }\n",
              "\n",
              "    .dataframe thead th {\n",
              "        text-align: right;\n",
              "    }\n",
              "</style>\n",
              "<table border=\"1\" class=\"dataframe\">\n",
              "  <thead>\n",
              "    <tr style=\"text-align: right;\">\n",
              "      <th></th>\n",
              "      <th>area_list</th>\n",
              "      <th>area_poverty_ratio</th>\n",
              "    </tr>\n",
              "  </thead>\n",
              "  <tbody>\n",
              "    <tr>\n",
              "      <th>24</th>\n",
              "      <td>MS</td>\n",
              "      <td>1.000000</td>\n",
              "    </tr>\n",
              "    <tr>\n",
              "      <th>2</th>\n",
              "      <td>AZ</td>\n",
              "      <td>0.939884</td>\n",
              "    </tr>\n",
              "    <tr>\n",
              "      <th>10</th>\n",
              "      <td>GA</td>\n",
              "      <td>0.880204</td>\n",
              "    </tr>\n",
              "    <tr>\n",
              "      <th>3</th>\n",
              "      <td>AR</td>\n",
              "      <td>0.854151</td>\n",
              "    </tr>\n",
              "    <tr>\n",
              "      <th>31</th>\n",
              "      <td>NM</td>\n",
              "      <td>0.837207</td>\n",
              "    </tr>\n",
              "  </tbody>\n",
              "</table>\n",
              "</div>"
            ],
            "text/plain": [
              "   area_list  area_poverty_ratio\n",
              "24        MS            1.000000\n",
              "2         AZ            0.939884\n",
              "10        GA            0.880204\n",
              "3         AR            0.854151\n",
              "31        NM            0.837207"
            ]
          },
          "metadata": {
            "tags": []
          },
          "execution_count": 11
        }
      ]
    },
    {
      "cell_type": "code",
      "metadata": {
        "id": "vDC64lXyk8d0",
        "colab_type": "code",
        "outputId": "591045d3-d67f-40eb-f7fe-ab9a0807f21e",
        "colab": {
          "base_uri": "https://localhost:8080/",
          "height": 128
        }
      },
      "source": [
        "sorted_data2.area_highschool_ratio.head()"
      ],
      "execution_count": 12,
      "outputs": [
        {
          "output_type": "execute_result",
          "data": {
            "text/plain": [
              "43    0.805044\n",
              "24    0.852679\n",
              "10    0.854458\n",
              "31    0.858124\n",
              "18    0.859760\n",
              "Name: area_highschool_ratio, dtype: float64"
            ]
          },
          "metadata": {
            "tags": []
          },
          "execution_count": 12
        }
      ]
    },
    {
      "cell_type": "markdown",
      "metadata": {
        "id": "gl2mRln1-tJ-",
        "colab_type": "text"
      },
      "source": [
        "## **Joint Plot Diagram**"
      ]
    },
    {
      "cell_type": "code",
      "metadata": {
        "id": "owibPSXY-zHz",
        "colab_type": "code",
        "colab": {
          "base_uri": "https://localhost:8080/",
          "height": 513
        },
        "outputId": "58531628-9170-410e-9753-378cf98c2eb9"
      },
      "source": [
        "# Visualization of high school graduation rate vs Poverty rate of each state with different style of seaborn code\n",
        "# joint kernel density\n",
        "# pearsonr= if it is 1, there is positive correlation and if it is, -1 there is negative correlation.\n",
        "# If it is zero, there is no correlation between variables\n",
        "# Show the joint distribution using kernel density estimation \n",
        "sns.jointplot(data.area_poverty_ratio, data.area_highschool_ratio, kind=\"kde\", height=7)\n",
        "plt.show()"
      ],
      "execution_count": 15,
      "outputs": [
        {
          "output_type": "display_data",
          "data": {
            "image/png": "[encoded data removed]",
            "text/plain": [
              "<Figure size 504x504 with 3 Axes>"
            ]
          },
          "metadata": {
            "tags": [],
            "needs_background": "light"
          }
        }
      ]
    },
    {
      "cell_type": "code",
      "metadata": {
        "id": "UbyLOYnFAN9b",
        "colab_type": "code",
        "colab": {
          "base_uri": "https://localhost:8080/",
          "height": 444
        },
        "outputId": "7b627c9f-f617-4bb8-8a67-44c13c5d56b1"
      },
      "source": [
        "# you can change parameters of joint plot\n",
        "# kind : { “scatter” | “reg” | “resid” | “kde” | “hex” }\n",
        "# Different usage of parameters but same plot with previous one\n",
        "sns.jointplot(\"area_poverty_ratio\", \"area_highschool_ratio\", data=data,size=5, ratio=3, color=\"b\")"
      ],
      "execution_count": 17,
      "outputs": [
        {
          "output_type": "stream",
          "text": [
            "/usr/local/lib/python3.6/dist-packages/seaborn/axisgrid.py:2264: UserWarning: The `size` parameter has been renamed to `height`; please update your code.\n",
            "  warnings.warn(msg, UserWarning)\n"
          ],
          "name": "stderr"
        },
        {
          "output_type": "execute_result",
          "data": {
            "text/plain": [
              "<seaborn.axisgrid.JointGrid at 0x7fb36735aa90>"
            ]
          },
          "metadata": {
            "tags": []
          },
          "execution_count": 17
        },
        {
          "output_type": "display_data",
          "data": {
            "image/png": "[encoded data removed]",
            "text/plain": [
              "<Figure size 360x360 with 3 Axes>"
            ]
          },
          "metadata": {
            "tags": [],
            "needs_background": "light"
          }
        }
      ]
    },
    {
      "cell_type": "code",
      "metadata": {
        "id": "lE6w4xN9AmVW",
        "colab_type": "code",
        "colab": {
          "base_uri": "https://localhost:8080/",
          "height": 444
        },
        "outputId": "9fc29784-d65b-45a2-bb08-622429397c7f"
      },
      "source": [
        "# you can change parameters of joint plot\n",
        "# kind : { “scatter” | “reg” | “resid” | “kde” | “hex” }\n",
        "# Different usage of parameters but same plot with previous one\n",
        "sns.jointplot(\"area_poverty_ratio\", \"area_highschool_ratio\", data=data, kind=\"resid\", size=5, ratio=3, color=\"b\")"
      ],
      "execution_count": 18,
      "outputs": [
        {
          "output_type": "stream",
          "text": [
            "/usr/local/lib/python3.6/dist-packages/seaborn/axisgrid.py:2264: UserWarning: The `size` parameter has been renamed to `height`; please update your code.\n",
            "  warnings.warn(msg, UserWarning)\n"
          ],
          "name": "stderr"
        },
        {
          "output_type": "execute_result",
          "data": {
            "text/plain": [
              "<seaborn.axisgrid.JointGrid at 0x7fb367271550>"
            ]
          },
          "metadata": {
            "tags": []
          },
          "execution_count": 18
        },
        {
          "output_type": "display_data",
          "data": {
            "image/png": "[encoded data removed]",
            "text/plain": [
              "<Figure size 360x360 with 3 Axes>"
            ]
          },
          "metadata": {
            "tags": [],
            "needs_background": "light"
          }
        }
      ]
    },
    {
      "cell_type": "code",
      "metadata": {
        "id": "LKceSdcDBUa7",
        "colab_type": "code",
        "colab": {
          "base_uri": "https://localhost:8080/",
          "height": 444
        },
        "outputId": "e8fbbcc9-cd1d-4d2f-8419-0238c63dce60"
      },
      "source": [
        "# you can change parameters of joint plot\n",
        "# kind : { “scatter” | “reg” | “resid” | “kde” | “hex” }\n",
        "# Different usage of parameters but same plot with previous one\n",
        "sns.jointplot(\"area_poverty_ratio\", \"area_highschool_ratio\", data=data, kind=\"hex\", size=5, ratio=3, color=\"b\")"
      ],
      "execution_count": 19,
      "outputs": [
        {
          "output_type": "stream",
          "text": [
            "/usr/local/lib/python3.6/dist-packages/seaborn/axisgrid.py:2264: UserWarning: The `size` parameter has been renamed to `height`; please update your code.\n",
            "  warnings.warn(msg, UserWarning)\n"
          ],
          "name": "stderr"
        },
        {
          "output_type": "execute_result",
          "data": {
            "text/plain": [
              "<seaborn.axisgrid.JointGrid at 0x7fb3670fd198>"
            ]
          },
          "metadata": {
            "tags": []
          },
          "execution_count": 19
        },
        {
          "output_type": "display_data",
          "data": {
            "image/png": "[encoded data removed]",
            "text/plain": [
              "<Figure size 360x360 with 3 Axes>"
            ]
          },
          "metadata": {
            "tags": [],
            "needs_background": "light"
          }
        }
      ]
    },
    {
      "cell_type": "markdown",
      "metadata": {
        "id": "7961669tB8Sv",
        "colab_type": "text"
      },
      "source": [
        "## **Pie Chart**"
      ]
    },
    {
      "cell_type": "code",
      "metadata": {
        "id": "cNTNjmldCKGJ",
        "colab_type": "code",
        "colab": {
          "base_uri": "https://localhost:8080/",
          "height": 313
        },
        "outputId": "9330d624-8e7f-4b51-b085-5381adeafde2"
      },
      "source": [
        "police_killing.head()"
      ],
      "execution_count": 21,
      "outputs": [
        {
          "output_type": "execute_result",
          "data": {
            "text/html": [
              "<div>\n",
              "<style scoped>\n",
              "    .dataframe tbody tr th:only-of-type {\n",
              "        vertical-align: middle;\n",
              "    }\n",
              "\n",
              "    .dataframe tbody tr th {\n",
              "        vertical-align: top;\n",
              "    }\n",
              "\n",
              "    .dataframe thead th {\n",
              "        text-align: right;\n",
              "    }\n",
              "</style>\n",
              "<table border=\"1\" class=\"dataframe\">\n",
              "  <thead>\n",
              "    <tr style=\"text-align: right;\">\n",
              "      <th></th>\n",
              "      <th>id</th>\n",
              "      <th>name</th>\n",
              "      <th>date</th>\n",
              "      <th>manner_of_death</th>\n",
              "      <th>armed</th>\n",
              "      <th>age</th>\n",
              "      <th>gender</th>\n",
              "      <th>race</th>\n",
              "      <th>city</th>\n",
              "      <th>state</th>\n",
              "      <th>signs_of_mental_illness</th>\n",
              "      <th>threat_level</th>\n",
              "      <th>flee</th>\n",
              "      <th>body_camera</th>\n",
              "    </tr>\n",
              "  </thead>\n",
              "  <tbody>\n",
              "    <tr>\n",
              "      <th>0</th>\n",
              "      <td>3</td>\n",
              "      <td>Tim Elliot</td>\n",
              "      <td>02/01/15</td>\n",
              "      <td>shot</td>\n",
              "      <td>gun</td>\n",
              "      <td>53.0</td>\n",
              "      <td>M</td>\n",
              "      <td>A</td>\n",
              "      <td>Shelton</td>\n",
              "      <td>WA</td>\n",
              "      <td>True</td>\n",
              "      <td>attack</td>\n",
              "      <td>Not fleeing</td>\n",
              "      <td>False</td>\n",
              "    </tr>\n",
              "    <tr>\n",
              "      <th>1</th>\n",
              "      <td>4</td>\n",
              "      <td>Lewis Lee Lembke</td>\n",
              "      <td>02/01/15</td>\n",
              "      <td>shot</td>\n",
              "      <td>gun</td>\n",
              "      <td>47.0</td>\n",
              "      <td>M</td>\n",
              "      <td>W</td>\n",
              "      <td>Aloha</td>\n",
              "      <td>OR</td>\n",
              "      <td>False</td>\n",
              "      <td>attack</td>\n",
              "      <td>Not fleeing</td>\n",
              "      <td>False</td>\n",
              "    </tr>\n",
              "    <tr>\n",
              "      <th>2</th>\n",
              "      <td>5</td>\n",
              "      <td>John Paul Quintero</td>\n",
              "      <td>03/01/15</td>\n",
              "      <td>shot and Tasered</td>\n",
              "      <td>unarmed</td>\n",
              "      <td>23.0</td>\n",
              "      <td>M</td>\n",
              "      <td>H</td>\n",
              "      <td>Wichita</td>\n",
              "      <td>KS</td>\n",
              "      <td>False</td>\n",
              "      <td>other</td>\n",
              "      <td>Not fleeing</td>\n",
              "      <td>False</td>\n",
              "    </tr>\n",
              "    <tr>\n",
              "      <th>3</th>\n",
              "      <td>8</td>\n",
              "      <td>Matthew Hoffman</td>\n",
              "      <td>04/01/15</td>\n",
              "      <td>shot</td>\n",
              "      <td>toy weapon</td>\n",
              "      <td>32.0</td>\n",
              "      <td>M</td>\n",
              "      <td>W</td>\n",
              "      <td>San Francisco</td>\n",
              "      <td>CA</td>\n",
              "      <td>True</td>\n",
              "      <td>attack</td>\n",
              "      <td>Not fleeing</td>\n",
              "      <td>False</td>\n",
              "    </tr>\n",
              "    <tr>\n",
              "      <th>4</th>\n",
              "      <td>9</td>\n",
              "      <td>Michael Rodriguez</td>\n",
              "      <td>04/01/15</td>\n",
              "      <td>shot</td>\n",
              "      <td>nail gun</td>\n",
              "      <td>39.0</td>\n",
              "      <td>M</td>\n",
              "      <td>H</td>\n",
              "      <td>Evans</td>\n",
              "      <td>CO</td>\n",
              "      <td>False</td>\n",
              "      <td>attack</td>\n",
              "      <td>Not fleeing</td>\n",
              "      <td>False</td>\n",
              "    </tr>\n",
              "  </tbody>\n",
              "</table>\n",
              "</div>"
            ],
            "text/plain": [
              "   id                name      date  ... threat_level         flee  body_camera\n",
              "0   3          Tim Elliot  02/01/15  ...       attack  Not fleeing        False\n",
              "1   4    Lewis Lee Lembke  02/01/15  ...       attack  Not fleeing        False\n",
              "2   5  John Paul Quintero  03/01/15  ...        other  Not fleeing        False\n",
              "3   8     Matthew Hoffman  04/01/15  ...       attack  Not fleeing        False\n",
              "4   9   Michael Rodriguez  04/01/15  ...       attack  Not fleeing        False\n",
              "\n",
              "[5 rows x 14 columns]"
            ]
          },
          "metadata": {
            "tags": []
          },
          "execution_count": 21
        }
      ]
    },
    {
      "cell_type": "code",
      "metadata": {
        "id": "UyXOximlB_Zk",
        "colab_type": "code",
        "colab": {
          "base_uri": "https://localhost:8080/",
          "height": 128
        },
        "outputId": "374d07ce-3da8-401f-98ff-596b8eb7c4c9"
      },
      "source": [
        "police_killing.race.head()"
      ],
      "execution_count": 20,
      "outputs": [
        {
          "output_type": "execute_result",
          "data": {
            "text/plain": [
              "0    A\n",
              "1    W\n",
              "2    H\n",
              "3    W\n",
              "4    H\n",
              "Name: race, dtype: object"
            ]
          },
          "metadata": {
            "tags": []
          },
          "execution_count": 20
        }
      ]
    },
    {
      "cell_type": "code",
      "metadata": {
        "id": "Th1Fns4BCXGT",
        "colab_type": "code",
        "colab": {
          "base_uri": "https://localhost:8080/",
          "height": 146
        },
        "outputId": "ee1aa309-097a-4dca-98cc-1361c54b1519"
      },
      "source": [
        "police_killing.race.value_counts()"
      ],
      "execution_count": 22,
      "outputs": [
        {
          "output_type": "execute_result",
          "data": {
            "text/plain": [
              "W    1201\n",
              "B     618\n",
              "H     423\n",
              "A      39\n",
              "N      31\n",
              "O      28\n",
              "Name: race, dtype: int64"
            ]
          },
          "metadata": {
            "tags": []
          },
          "execution_count": 22
        }
      ]
    },
    {
      "cell_type": "code",
      "metadata": {
        "id": "o_aq6IktCk-Q",
        "colab_type": "code",
        "colab": {
          "base_uri": "https://localhost:8080/",
          "height": 405
        },
        "outputId": "2423c465-e671-4b28-f1b1-137acab16b38"
      },
      "source": [
        "police_killing.info()"
      ],
      "execution_count": 25,
      "outputs": [
        {
          "output_type": "stream",
          "text": [
            "<class 'pandas.core.frame.DataFrame'>\n",
            "RangeIndex: 2535 entries, 0 to 2534\n",
            "Data columns (total 14 columns):\n",
            " #   Column                   Non-Null Count  Dtype  \n",
            "---  ------                   --------------  -----  \n",
            " 0   id                       2535 non-null   int64  \n",
            " 1   name                     2535 non-null   object \n",
            " 2   date                     2535 non-null   object \n",
            " 3   manner_of_death          2535 non-null   object \n",
            " 4   armed                    2526 non-null   object \n",
            " 5   age                      2458 non-null   float64\n",
            " 6   gender                   2535 non-null   object \n",
            " 7   race                     2340 non-null   object \n",
            " 8   city                     2535 non-null   object \n",
            " 9   state                    2535 non-null   object \n",
            " 10  signs_of_mental_illness  2535 non-null   bool   \n",
            " 11  threat_level             2535 non-null   object \n",
            " 12  flee                     2470 non-null   object \n",
            " 13  body_camera              2535 non-null   bool   \n",
            "dtypes: bool(2), float64(1), int64(1), object(10)\n",
            "memory usage: 242.7+ KB\n"
          ],
          "name": "stdout"
        }
      ]
    },
    {
      "cell_type": "code",
      "metadata": {
        "id": "Sb6V_L03DKGv",
        "colab_type": "code",
        "colab": {
          "base_uri": "https://localhost:8080/",
          "height": 447
        },
        "outputId": "52abadd6-7d31-4ba1-ac93-4c6209b4586f"
      },
      "source": [
        "police_killing.race.dropna(inplace=True)\n",
        "labels = police_killing.race.value_counts().index\n",
        "colors = ['grey','blue','red','yellow','green','brown']\n",
        "explode = [0,0,0,0,0,0]\n",
        "sizes = police_killing.race.value_counts().values\n",
        "#visualise now\n",
        "plt.figure(figsize=(7,7))\n",
        "plt.pie(sizes,explode=explode, labels=labels, colors=colors,autopct='%1.1f%%')\n",
        "plt.title('Killed by race distribution',color='orange',fontsize=15)"
      ],
      "execution_count": 29,
      "outputs": [
        {
          "output_type": "execute_result",
          "data": {
            "text/plain": [
              "Text(0.5, 1.0, 'Killed by race distribution')"
            ]
          },
          "metadata": {
            "tags": []
          },
          "execution_count": 29
        },
        {
          "output_type": "display_data",
          "data": {
            "image/png": "[encoded data removed]",
            "text/plain": [
              "<Figure size 504x504 with 1 Axes>"
            ]
          },
          "metadata": {
            "tags": []
          }
        }
      ]
    }
  ]
}