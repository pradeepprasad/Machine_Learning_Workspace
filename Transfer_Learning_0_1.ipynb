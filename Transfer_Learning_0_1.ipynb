{
  "nbformat": 4,
  "nbformat_minor": 0,
  "metadata": {
    "colab": {
      "name": "Transfer Learning_0.1.ipynb",
      "provenance": [],
      "include_colab_link": true
    },
    "kernelspec": {
      "name": "python3",
      "display_name": "Python 3"
    },
    "accelerator": "TPU"
  },
  "cells": [
    {
      "cell_type": "markdown",
      "metadata": {
        "id": "view-in-github",
        "colab_type": "text"
      },
      "source": [
        "<a href=\"https://colab.research.google.com/github/pradeepprasad/Machine_Learning_Workspace/blob/master/Transfer_Learning_0_1.ipynb\" target=\"_parent\"><img src=\"https://colab.research.google.com/assets/colab-badge.svg\" alt=\"Open In Colab\"/></a>"
      ]
    },
    {
      "cell_type": "code",
      "metadata": {
        "id": "_Zb2SmJZnkG1",
        "colab_type": "code",
        "colab": {}
      },
      "source": [
        "from __future__ import absolute_import, division, print_function, unicode_literals\n",
        "import matplotlib.pylab as plt\n",
        "import tensorflow as tf\n"
      ],
      "execution_count": 0,
      "outputs": []
    },
    {
      "cell_type": "code",
      "metadata": {
        "id": "r4Q4V7DKoCnK",
        "colab_type": "code",
        "colab": {
          "base_uri": "https://localhost:8080/",
          "height": 35
        },
        "outputId": "9871b7be-7cd8-4fb3-a9ee-c3bb4ae9555a"
      },
      "source": [
        "!pip install -q -U tf-hub-nightly\n",
        "import tensorflow_hub as hub\n",
        "\n",
        "from tensorflow.keras import layers\n"
      ],
      "execution_count": 2,
      "outputs": [
        {
          "output_type": "stream",
          "text": [
            "\u001b[?25l\r\u001b[K     |███▋                            | 10kB 21.9MB/s eta 0:00:01\r\u001b[K     |███████▎                        | 20kB 2.2MB/s eta 0:00:01\r\u001b[K     |██████████▉                     | 30kB 3.1MB/s eta 0:00:01\r\u001b[K     |██████████████▌                 | 40kB 2.1MB/s eta 0:00:01\r\u001b[K     |██████████████████              | 51kB 2.6MB/s eta 0:00:01\r\u001b[K     |█████████████████████▊          | 61kB 3.0MB/s eta 0:00:01\r\u001b[K     |█████████████████████████▎      | 71kB 3.5MB/s eta 0:00:01\r\u001b[K     |█████████████████████████████   | 81kB 4.0MB/s eta 0:00:01\r\u001b[K     |████████████████████████████████| 92kB 3.2MB/s \n",
            "\u001b[?25h"
          ],
          "name": "stdout"
        }
      ]
    }
  ]
}