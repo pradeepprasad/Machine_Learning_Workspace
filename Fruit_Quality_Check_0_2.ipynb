{
  "nbformat": 4,
  "nbformat_minor": 0,
  "metadata": {
    "colab": {
      "name": "Fruit_Quality_Check_0.2.ipynb",
      "provenance": [],
      "private_outputs": true,
      "collapsed_sections": [],
      "machine_shape": "hm",
      "include_colab_link": true
    },
    "kernelspec": {
      "name": "python3",
      "display_name": "Python 3"
    },
    "accelerator": "TPU"
  },
  "cells": [
    {
      "cell_type": "markdown",
      "metadata": {
        "id": "view-in-github",
        "colab_type": "text"
      },
      "source": [
        "<a href=\"https://colab.research.google.com/github/pradeepprasad/Machine_Learning_Workspace/blob/master/Fruit_Quality_Check_0_2.ipynb\" target=\"_parent\"><img src=\"https://colab.research.google.com/assets/colab-badge.svg\" alt=\"Open In Colab\"/></a>"
      ]
    },
    {
      "cell_type": "markdown",
      "metadata": {
        "id": "tsh83cfn6jB4",
        "colab_type": "text"
      },
      "source": [
        "Below are the pre-processing steps to download data files from Kaggle and moving in colab to specific folder for persistence across multiple session."
      ]
    },
    {
      "cell_type": "code",
      "metadata": {
        "id": "sGSmedskqh4y",
        "colab_type": "code",
        "colab": {}
      },
      "source": [
        "# Run this cell and select the kaggle.json file downloaded\n",
        "# from the Kaggle account settings page.\n",
        "from google.colab import files\n",
        "files.upload()"
      ],
      "execution_count": 0,
      "outputs": []
    },
    {
      "cell_type": "code",
      "metadata": {
        "id": "GCXcifiIvA-N",
        "colab_type": "code",
        "colab": {}
      },
      "source": [
        "# Next, install the Kaggle API client.\n",
        "!pip install -q kaggle"
      ],
      "execution_count": 0,
      "outputs": []
    },
    {
      "cell_type": "code",
      "metadata": {
        "id": "kJalQaf7zUc_",
        "colab_type": "code",
        "colab": {}
      },
      "source": [
        "ls ../content/drive/'My Drive'/kaggle_login_file/"
      ],
      "execution_count": 0,
      "outputs": []
    },
    {
      "cell_type": "code",
      "metadata": {
        "id": "9LKTJ0u3vGeH",
        "colab_type": "code",
        "colab": {}
      },
      "source": [
        "# The Kaggle API client expects this file to be in ~/.kaggle,\n",
        "# so move it there.\n",
        "!mkdir -p ~/.kaggle\n",
        "!cp ../content/drive/'My Drive'/kaggle_login_file/kaggle.json ~/.kaggle/\n",
        "\n",
        "# This permissions change avoids a warning on Kaggle tool startup.\n",
        "!chmod 600 ~/.kaggle/kaggle.json"
      ],
      "execution_count": 0,
      "outputs": []
    },
    {
      "cell_type": "code",
      "metadata": {
        "id": "gLxcA67fvLuJ",
        "colab_type": "code",
        "colab": {}
      },
      "source": [
        "#list datasets\n",
        "!kaggle datasets list -s 'fruits'"
      ],
      "execution_count": 0,
      "outputs": []
    },
    {
      "cell_type": "code",
      "metadata": {
        "id": "G1PgDsYa0T1S",
        "colab_type": "code",
        "colab": {}
      },
      "source": [
        "cd /content/drive/My Drive/data/sample_data/"
      ],
      "execution_count": 0,
      "outputs": []
    },
    {
      "cell_type": "code",
      "metadata": {
        "id": "mpsoRur6vtvt",
        "colab_type": "code",
        "colab": {}
      },
      "source": [
        "!kaggle datasets download -d sriramr/fruits-fresh-and-rotten-for-classification "
      ],
      "execution_count": 0,
      "outputs": []
    },
    {
      "cell_type": "code",
      "metadata": {
        "id": "LrUXSgrU3gbP",
        "colab_type": "code",
        "colab": {}
      },
      "source": [
        "!kaggle datasets download -d moltean/fruits "
      ],
      "execution_count": 0,
      "outputs": []
    },
    {
      "cell_type": "code",
      "metadata": {
        "id": "w5KTIiRDxorv",
        "colab_type": "code",
        "colab": {}
      },
      "source": [
        "!mv fruits-fresh-and-rotten-for-classification.zip /content/sample_data/"
      ],
      "execution_count": 0,
      "outputs": []
    },
    {
      "cell_type": "code",
      "metadata": {
        "id": "pQkTi3a5xz36",
        "colab_type": "code",
        "colab": {}
      },
      "source": [
        "!mv kaggle.json /content/sample_data/"
      ],
      "execution_count": 0,
      "outputs": []
    },
    {
      "cell_type": "code",
      "metadata": {
        "id": "hMqOvx7gyJPn",
        "colab_type": "code",
        "colab": {}
      },
      "source": [
        "ls ../content/sample_data/fruits-fresh-and-rotten-for-classification.zip"
      ],
      "execution_count": 0,
      "outputs": []
    },
    {
      "cell_type": "code",
      "metadata": {
        "id": "RLdrvBFv4yoA",
        "colab_type": "code",
        "colab": {}
      },
      "source": [
        "!unzip '/content/drive/My Drive/data/sample_data/fruits-fresh-and-rotten-for-classification.zip'"
      ],
      "execution_count": 0,
      "outputs": []
    },
    {
      "cell_type": "code",
      "metadata": {
        "id": "rCyiDkf85u2-",
        "colab_type": "code",
        "colab": {}
      },
      "source": [
        "!mv dataset /content/kaggle"
      ],
      "execution_count": 0,
      "outputs": []
    },
    {
      "cell_type": "code",
      "metadata": {
        "id": "SLNzisEi4JDD",
        "colab_type": "code",
        "colab": {}
      },
      "source": [
        "ls '/content/drive/My Drive/data/sample_data/dataset/train/freshapples'"
      ],
      "execution_count": 0,
      "outputs": []
    },
    {
      "cell_type": "markdown",
      "metadata": {
        "id": "fq7U-wY-64bF",
        "colab_type": "text"
      },
      "source": [
        "**Now we are proceeding to access the data available to us.**"
      ]
    },
    {
      "cell_type": "code",
      "metadata": {
        "id": "PoOHr9FuyvVw",
        "colab_type": "code",
        "colab": {}
      },
      "source": [
        "# First, we are going to load the file names and their respective target labels into numpy array! \n",
        "from sklearn.datasets import load_files\n",
        "import numpy as np\n",
        "\n",
        "#train_dir = '../input/fruits-360_dataset/fruits-360/Training'\n",
        "train_dir = '/content/drive/My Drive/data/sample_data/dataset/train'\n",
        "#test_dir = '../input/fruits-360_dataset/fruits-360/Test'\n",
        "test_dir = '/content/drive/My Drive/data/sample_data/dataset/test'\n",
        "\n",
        "def load_dataset(path):\n",
        "    data = load_files(path)\n",
        "    files = np.array(data['filenames'])\n",
        "    targets = np.array(data['target'])\n",
        "    target_labels = np.array(data['target_names'])\n",
        "    return files,targets,target_labels\n",
        "    \n",
        "x_train, y_train,target_labels = load_dataset(train_dir)\n",
        "x_test, y_test,_ = load_dataset(test_dir)\n",
        "print('Loading complete!')\n",
        "\n",
        "print('Training set size : ' , x_train.shape[0])\n",
        "print('Testing set size : ', x_test.shape[0])\n",
        "\n"
      ],
      "execution_count": 0,
      "outputs": []
    },
    {
      "cell_type": "code",
      "metadata": {
        "id": "qPFdITN37WyG",
        "colab_type": "code",
        "colab": {}
      },
      "source": [
        "# Let's confirm the number of classes :p\n",
        "no_of_classes = len(np.unique(y_train))\n",
        "no_of_classes"
      ],
      "execution_count": 0,
      "outputs": []
    },
    {
      "cell_type": "code",
      "metadata": {
        "id": "Hd2K-KpC7ixS",
        "colab_type": "code",
        "colab": {}
      },
      "source": [
        "print(y_train[0:10])\n",
        "# target labels are numbers corresponding to class label. We need to change them to a vector of 81 elements."
      ],
      "execution_count": 0,
      "outputs": []
    },
    {
      "cell_type": "code",
      "metadata": {
        "id": "uqIMJLyJ7nyf",
        "colab_type": "code",
        "colab": {}
      },
      "source": [
        "from keras.utils import np_utils\n",
        "y_train = np_utils.to_categorical(y_train,no_of_classes)\n",
        "y_test = np_utils.to_categorical(y_test,no_of_classes)\n",
        "y_train[0] # Note that only one element has value 1(corresponding to its label) and others are 0."
      ],
      "execution_count": 0,
      "outputs": []
    },
    {
      "cell_type": "code",
      "metadata": {
        "id": "fj4BxLhq9hUX",
        "colab_type": "code",
        "colab": {}
      },
      "source": [
        "# Now, we have to divide the validation set into test and validation set\n",
        "x_test,x_valid = x_test[1300:],x_test[:1300]\n",
        "y_test,y_vaild = y_test[1300:],y_test[:1300]\n",
        "print('Vaildation X : ',x_valid.shape)\n",
        "print('Vaildation y :',y_vaild.shape)\n",
        "print('Test X : ',x_test.shape)\n",
        "print('Test y : ',y_test.shape)"
      ],
      "execution_count": 0,
      "outputs": []
    },
    {
      "cell_type": "code",
      "metadata": {
        "id": "pe0w3F_-9swO",
        "colab_type": "code",
        "colab": {}
      },
      "source": [
        "# training data is just file names of images. We need to convert them into pixel matrix.\n",
        "x_train[0]"
      ],
      "execution_count": 0,
      "outputs": []
    },
    {
      "cell_type": "code",
      "metadata": {
        "id": "HGGT5bhb9z1f",
        "colab_type": "code",
        "colab": {}
      },
      "source": [
        "# We just have the file names in the x set. Let's load the images and convert them into array.\n",
        "from keras.preprocessing.image import array_to_img, img_to_array, load_img\n",
        "\n",
        "def convert_image_to_array(files):\n",
        "    images_as_array=[]\n",
        "    for file in files:\n",
        "        # Convert to Numpy Array\n",
        "        images_as_array.append(img_to_array(load_img(file)))\n",
        "    return images_as_array\n",
        "\n"
      ],
      "execution_count": 0,
      "outputs": []
    },
    {
      "cell_type": "code",
      "metadata": {
        "id": "oqC81rRu-W3N",
        "colab_type": "code",
        "colab": {}
      },
      "source": [
        "x_train = np.array(convert_image_to_array(x_train))\n",
        "print('Training set shape : ',x_train.shape)"
      ],
      "execution_count": 0,
      "outputs": []
    },
    {
      "cell_type": "code",
      "metadata": {
        "id": "Wgwg1QAK-ZUG",
        "colab_type": "code",
        "colab": {}
      },
      "source": [
        "x_valid = np.array(convert_image_to_array(x_valid))\n",
        "print('Validation set shape : ',x_valid.shape)"
      ],
      "execution_count": 0,
      "outputs": []
    },
    {
      "cell_type": "code",
      "metadata": {
        "id": "6xAdju9J-bsj",
        "colab_type": "code",
        "colab": {}
      },
      "source": [
        "x_test = np.array(convert_image_to_array(x_test))\n",
        "print('Test set shape : ',x_test.shape)\n",
        "print('1st training image shape ',x_train[0].shape)"
      ],
      "execution_count": 0,
      "outputs": []
    },
    {
      "cell_type": "code",
      "metadata": {
        "id": "ZbPS0xXJBLNG",
        "colab_type": "code",
        "colab": {}
      },
      "source": [
        "# there are elements will other values too :p\n",
        "print('1st training image as array',x_train[0]) # don't worry if you see only 255s.."
      ],
      "execution_count": 0,
      "outputs": []
    },
    {
      "cell_type": "markdown",
      "metadata": {
        "id": "WM8UDjDyI7_S",
        "colab_type": "text"
      },
      "source": [
        "Till now above steps were executed using TPU over colab with ram as 35GB. Below steps are still failing due to low memory. Need to check again on solution."
      ]
    },
    {
      "cell_type": "code",
      "metadata": {
        "id": "O8g2qUQRBaz2",
        "colab_type": "code",
        "colab": {}
      },
      "source": [
        "# time to re-scale so that all the pixel values lie within 0 to 1\n",
        "#x_train = x_train.astype('float32')/255\n",
        "x_train = x_train.astype('object')/255\n",
        "#x_valid = x_valid.astype('float32')/255\n",
        "x_valid = x_valid.astype('object')/255\n",
        "#x_test = x_test.astype('float32')/255\n",
        "x_test = x_test.astype('object')/255\n",
        "x_train[0]"
      ],
      "execution_count": 0,
      "outputs": []
    },
    {
      "cell_type": "code",
      "metadata": {
        "id": "hE3CRxICBTrP",
        "colab_type": "code",
        "colab": {}
      },
      "source": [
        ""
      ],
      "execution_count": 0,
      "outputs": []
    }
  ]
}