{
  "nbformat": 4,
  "nbformat_minor": 0,
  "metadata": {
    "colab": {
      "name": "Fruit_Quality_Check_0.2.ipynb",
      "provenance": [],
      "private_outputs": true,
      "collapsed_sections": [],
      "machine_shape": "hm",
      "include_colab_link": true
    },
    "kernelspec": {
      "name": "python3",
      "display_name": "Python 3"
    },
    "accelerator": "TPU"
  },
  "cells": [
    {
      "cell_type": "markdown",
      "metadata": {
        "id": "view-in-github",
        "colab_type": "text"
      },
      "source": [
        "<a href=\"https://colab.research.google.com/github/pradeepprasad/Machine_Learning_Workspace/blob/master/Fruit_Quality_Check_0_2.ipynb\" target=\"_parent\"><img src=\"https://colab.research.google.com/assets/colab-badge.svg\" alt=\"Open In Colab\"/></a>"
      ]
    },
    {
      "cell_type": "markdown",
      "metadata": {
        "id": "tsh83cfn6jB4",
        "colab_type": "text"
      },
      "source": [
        "Below are the pre-processing steps to download data files from Kaggle and moving in colab to specific folder for persistence across multiple session."
      ]
    },
    {
      "cell_type": "code",
      "metadata": {
        "id": "sGSmedskqh4y",
        "colab_type": "code",
        "colab": {}
      },
      "source": [
        "# Run this cell and select the kaggle.json file downloaded\n",
        "# from the Kaggle account settings page.\n",
        "from google.colab import files\n",
        "files.upload()"
      ],
      "execution_count": 0,
      "outputs": []
    },
    {
      "cell_type": "code",
      "metadata": {
        "id": "GCXcifiIvA-N",
        "colab_type": "code",
        "colab": {}
      },
      "source": [
        "# Next, install the Kaggle API client.\n",
        "!pip install -q kaggle"
      ],
      "execution_count": 0,
      "outputs": []
    },
    {
      "cell_type": "code",
      "metadata": {
        "id": "kJalQaf7zUc_",
        "colab_type": "code",
        "colab": {}
      },
      "source": [
        "ls ../content/drive/'My Drive'/kaggle_login_file/"
      ],
      "execution_count": 0,
      "outputs": []
    },
    {
      "cell_type": "code",
      "metadata": {
        "id": "9LKTJ0u3vGeH",
        "colab_type": "code",
        "colab": {}
      },
      "source": [
        "# The Kaggle API client expects this file to be in ~/.kaggle,\n",
        "# so move it there.\n",
        "!mkdir -p ~/.kaggle\n",
        "!cp ../content/drive/'My Drive'/kaggle_login_file/kaggle.json ~/.kaggle/\n",
        "\n",
        "# This permissions change avoids a warning on Kaggle tool startup.\n",
        "!chmod 600 ~/.kaggle/kaggle.json"
      ],
      "execution_count": 0,
      "outputs": []
    },
    {
      "cell_type": "code",
      "metadata": {
        "id": "gLxcA67fvLuJ",
        "colab_type": "code",
        "colab": {}
      },
      "source": [
        "#list datasets\n",
        "!kaggle datasets list -s 'fruits'"
      ],
      "execution_count": 0,
      "outputs": []
    },
    {
      "cell_type": "code",
      "metadata": {
        "id": "G1PgDsYa0T1S",
        "colab_type": "code",
        "colab": {}
      },
      "source": [
        "cd /content/drive/My Drive/data/sample_data/"
      ],
      "execution_count": 0,
      "outputs": []
    },
    {
      "cell_type": "code",
      "metadata": {
        "id": "mpsoRur6vtvt",
        "colab_type": "code",
        "colab": {}
      },
      "source": [
        "!kaggle datasets download -d sriramr/fruits-fresh-and-rotten-for-classification "
      ],
      "execution_count": 0,
      "outputs": []
    },
    {
      "cell_type": "code",
      "metadata": {
        "id": "LrUXSgrU3gbP",
        "colab_type": "code",
        "colab": {}
      },
      "source": [
        "!kaggle datasets download -d moltean/fruits "
      ],
      "execution_count": 0,
      "outputs": []
    },
    {
      "cell_type": "code",
      "metadata": {
        "id": "w5KTIiRDxorv",
        "colab_type": "code",
        "colab": {}
      },
      "source": [
        "!mv fruits-fresh-and-rotten-for-classification.zip /content/sample_data/"
      ],
      "execution_count": 0,
      "outputs": []
    },
    {
      "cell_type": "code",
      "metadata": {
        "id": "pQkTi3a5xz36",
        "colab_type": "code",
        "colab": {}
      },
      "source": [
        "!mv kaggle.json /content/sample_data/"
      ],
      "execution_count": 0,
      "outputs": []
    },
    {
      "cell_type": "code",
      "metadata": {
        "id": "hMqOvx7gyJPn",
        "colab_type": "code",
        "colab": {}
      },
      "source": [
        "ls ../content/sample_data/fruits-fresh-and-rotten-for-classification.zip"
      ],
      "execution_count": 0,
      "outputs": []
    },
    {
      "cell_type": "code",
      "metadata": {
        "id": "RLdrvBFv4yoA",
        "colab_type": "code",
        "colab": {}
      },
      "source": [
        "!unzip '/content/drive/My Drive/data/sample_data/fruits-fresh-and-rotten-for-classification.zip'"
      ],
      "execution_count": 0,
      "outputs": []
    },
    {
      "cell_type": "code",
      "metadata": {
        "id": "rCyiDkf85u2-",
        "colab_type": "code",
        "colab": {}
      },
      "source": [
        "!mv dataset /content/kaggle"
      ],
      "execution_count": 0,
      "outputs": []
    },
    {
      "cell_type": "code",
      "metadata": {
        "id": "SLNzisEi4JDD",
        "colab_type": "code",
        "colab": {}
      },
      "source": [
        "ls '/content/drive/My Drive/data/sample_data/dataset/train'"
      ],
      "execution_count": 0,
      "outputs": []
    },
    {
      "cell_type": "markdown",
      "metadata": {
        "id": "fq7U-wY-64bF",
        "colab_type": "text"
      },
      "source": [
        "**Now we are proceeding to access the data available to us.**"
      ]
    },
    {
      "cell_type": "code",
      "metadata": {
        "id": "PoOHr9FuyvVw",
        "colab_type": "code",
        "colab": {}
      },
      "source": [
        "# First, we are going to load the file names and their respective target labels into numpy array! \n",
        "from sklearn.datasets import load_files\n",
        "from keras.preprocessing.image import ImageDataGenerator\n",
        "import numpy as np\n",
        "\n",
        "#train_dir = '../input/fruits-360_dataset/fruits-360/Training'\n",
        "train_dir = '/content/drive/My Drive/data/sample_data/dataset/train'\n",
        "#test_dir = '../input/fruits-360_dataset/fruits-360/Test'\n",
        "test_dir = '/content/drive/My Drive/data/sample_data/dataset/test'\n",
        "\n",
        "def load_dataset_and_rescale(path):\n",
        "    img_datagen = ImageDataGenerator(rescale = 1./255,\n",
        "                                   shear_range = 0.2,\n",
        "                                   zoom_range = 0.2,\n",
        "                                   horizontal_flip = True)\n",
        "    reszd_images = img_datagen.flow_from_directory(path,\n",
        "                                               target_size = (100, 100),\n",
        "                                               batch_size = 100,\n",
        "                                               class_mode = 'categorical')\n",
        "\n",
        "    #files = [files.resize((100,100), Image.ANTIALIAS) for file in files]\n",
        "    #pp ends for resizing images\n",
        "    #files = np.array(reszd_images['filenames'])\n",
        "    #targets = np.array(data['target'])\n",
        "    #target_labels = np.array(data['target_names'])\n",
        "    #return files,targets,target_labels\n",
        "    return reszd_images\n",
        "    \n",
        "train_set = load_dataset_and_rescale(train_dir)\n",
        "test_set = load_dataset_and_rescale(test_dir)\n",
        "#x_train, y_train,target_labels = load_dataset(train_dir)\n",
        "#x_test, y_test,_ = load_dataset(test_dir)\n",
        "#print('Loading complete!')\n",
        "#print('Training set size : ' , x_train.shape[0])\n",
        "#print('Testing set size : ', x_test.shape[0])\n",
        "print('Loading and scaling complete!')"
      ],
      "execution_count": 0,
      "outputs": []
    },
    {
      "cell_type": "code",
      "metadata": {
        "id": "Q-aYnA6Hg8a3",
        "colab_type": "code",
        "colab": {}
      },
      "source": [
        "# now images are reshaped to 100*100,RGB format\n",
        "train_set.image_shape\n",
        "test_set.image_shape"
      ],
      "execution_count": 0,
      "outputs": []
    },
    {
      "cell_type": "code",
      "metadata": {
        "id": "WBzBw74D-Vsk",
        "colab_type": "code",
        "colab": {}
      },
      "source": [
        "#now lets get how many classes we have.\n",
        "no_of_classes = train_set.num_classes\n",
        "no_of_classes"
      ],
      "execution_count": 0,
      "outputs": []
    },
    {
      "cell_type": "code",
      "metadata": {
        "id": "qPFdITN37WyG",
        "colab_type": "code",
        "colab": {}
      },
      "source": [
        "#below gives total number of data in training set\n",
        "train_set.n"
      ],
      "execution_count": 0,
      "outputs": []
    },
    {
      "cell_type": "code",
      "metadata": {
        "id": "rHfRhjsJnTxa",
        "colab_type": "code",
        "colab": {}
      },
      "source": [
        "#Simple CNN from scratch - we are using 3 Conv layers followed by maxpooling layers.\n",
        "# At the end we add dropout, flatten and some fully connected layers(Dense).\n",
        "\n",
        "from keras.models import Sequential\n",
        "from keras.layers import Conv2D,MaxPooling2D\n",
        "from keras.layers import Activation, Dense, Flatten, Dropout\n",
        "from keras.preprocessing.image import ImageDataGenerator\n",
        "from keras.callbacks import ModelCheckpoint\n",
        "from keras import backend as K\n",
        "\n",
        "model = Sequential()\n",
        "model.add(Conv2D(filters = 16, kernel_size = 2,input_shape=(100,100,3),padding='same'))\n",
        "model.add(Activation('relu'))\n",
        "model.add(MaxPooling2D(pool_size=2))\n",
        "\n",
        "model.add(Conv2D(filters = 32,kernel_size = 2,activation= 'relu',padding='same'))\n",
        "model.add(MaxPooling2D(pool_size=2))\n",
        "\n",
        "model.add(Conv2D(filters = 64,kernel_size = 2,activation= 'relu',padding='same'))\n",
        "model.add(MaxPooling2D(pool_size=2))\n",
        "\n",
        "model.add(Conv2D(filters = 128,kernel_size = 2,activation= 'relu',padding='same'))\n",
        "model.add(MaxPooling2D(pool_size=2))\n",
        "\n",
        "model.add(Dropout(0.3))\n",
        "model.add(Flatten())\n",
        "model.add(Dense(150))\n",
        "model.add(Activation('relu'))\n",
        "model.add(Dropout(0.4))\n",
        "model.add(Dense(no_of_classes,activation = 'softmax'))\n",
        "model.summary()"
      ],
      "execution_count": 0,
      "outputs": []
    },
    {
      "cell_type": "code",
      "metadata": {
        "id": "hE3CRxICBTrP",
        "colab_type": "code",
        "colab": {}
      },
      "source": [
        ""
      ],
      "execution_count": 0,
      "outputs": []
    }
  ]
}